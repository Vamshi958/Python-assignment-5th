{
 "cells": [
  {
   "cell_type": "code",
   "execution_count": null,
   "id": "7b813bbf-2e69-44a9-a9c8-4a0b5102fd81",
   "metadata": {},
   "outputs": [],
   "source": [
    "For loop"
   ]
  },
  {
   "cell_type": "code",
   "execution_count": null,
   "id": "ae9198ab-a698-4907-b043-d9959345a55e",
   "metadata": {},
   "outputs": [],
   "source": [
    "1.. Write a Python program to print numbers from 1 to 10 using a for loop.\n"
   ]
  },
  {
   "cell_type": "code",
   "execution_count": 1,
   "id": "a309991c-189b-4867-b82f-42565c068da6",
   "metadata": {},
   "outputs": [
    {
     "name": "stdout",
     "output_type": "stream",
     "text": [
      "1 2 3 4 5 6 7 8 9 10 "
     ]
    }
   ],
   "source": [
    "for i in range(1,11):\n",
    "    print(i,end=\" \")"
   ]
  },
  {
   "cell_type": "code",
   "execution_count": null,
   "id": "82cb37d0-5f03-4290-9a99-91d3d594c23d",
   "metadata": {},
   "outputs": [],
   "source": [
    "2. Explain the difference between a for loop and a while loop in Python.\n"
   ]
  },
  {
   "cell_type": "code",
   "execution_count": null,
   "id": "d44fcea0-4829-4f49-b2e1-1c0734a5e074",
   "metadata": {},
   "outputs": [],
   "source": [
    "For-loop\n",
    "this loop is used to extract one by one\n",
    "\n",
    "A for loop is used for definite iteration, which means it is used when you know in advance how many times you want to execute a block of code.\n",
    "It iterates over a sequence (such as a list, tuple, or string) or any iterable object.\n",
    "The syntax of a for loop in Python typically includes the for keyword, a loop variable that takes on each value from the sequence, and a colon : \n",
    "to start the loop block.\n",
    "example:\n",
    "    numbers = [1, 2, 3, 4, 5]\n",
    "for num in numbers:\n",
    "    print(num)\n",
    "\n",
    "Use a for loop when you have a known sequence or collection of items and you want to perform a specific action on each item in the sequence.\n",
    "\n",
    "while-loop\n",
    "this loop is used extract one by one but when csome conditions met or true\n",
    "\n",
    "A while loop is used for indefinite iteration, which means it is used when you want to execute a block of code as long as a certain condition is met \n",
    "or true.\n",
    "It continues to execute until the condition becomes false.\n",
    "The syntax of a while loop in Python includes the while keyword, followed by a condition. The loop block is indented and executed as long as the condition is true.\n",
    "num = 1\n",
    "while num <= 5:\n",
    "    print(num)\n",
    "    num += 1\n",
    " \n",
    "Use a while loop when you want to execute a block of code repeatedly as long as a specific condition is met. \n",
    "It's useful for situations where the number of iterations is not known in advance.\n",
    "In summary, the key differences are that a for loop is used for known, definite iteration over a sequence, while a while loop is used for \n",
    "indefinite iteration based on a condition. \n",
    "Both types of loops have their own use cases, and the choice between them depends on the problem you're trying to solve.\n",
    "\n",
    "\n",
    "\n",
    "\n",
    "\n"
   ]
  },
  {
   "cell_type": "code",
   "execution_count": null,
   "id": "1c040cd9-eafa-4228-ab0c-a820ed39d683",
   "metadata": {},
   "outputs": [],
   "source": [
    "3.write a python program to calculate the sum of all numbers from 1 to 100 using for loop"
   ]
  },
  {
   "cell_type": "code",
   "execution_count": 8,
   "id": "396388e3-4176-46b7-9649-0ccd41bf01b2",
   "metadata": {},
   "outputs": [
    {
     "name": "stdout",
     "output_type": "stream",
     "text": [
      "5050\n"
     ]
    }
   ],
   "source": [
    "sum=0\n",
    "for i in range(1,101):\n",
    "    sum=sum+i\n",
    "print(sum)"
   ]
  },
  {
   "cell_type": "code",
   "execution_count": null,
   "id": "b1e192d7-6b42-4df5-b7b5-1a898ac5fe86",
   "metadata": {},
   "outputs": [],
   "source": [
    "4.how do you iterate throgh a list using for loop in python"
   ]
  },
  {
   "cell_type": "code",
   "execution_count": 9,
   "id": "313db441-5340-484e-83a5-a4d0c588940f",
   "metadata": {},
   "outputs": [
    {
     "name": "stdout",
     "output_type": "stream",
     "text": [
      "1\n",
      "2\n",
      "3\n",
      "4\n",
      "5\n"
     ]
    }
   ],
   "source": [
    "list1=[1,2,3,4,5]\n",
    "for i in list1:\n",
    "    print(i)\n",
    "    "
   ]
  },
  {
   "cell_type": "code",
   "execution_count": null,
   "id": "2700530e-8dc3-48c5-9632-e2f8075530da",
   "metadata": {},
   "outputs": [],
   "source": [
    "5.write a python program to find the product of all elements in a list"
   ]
  },
  {
   "cell_type": "code",
   "execution_count": 11,
   "id": "1ee53ccd-ee36-4c53-8d31-e3af18b71fee",
   "metadata": {},
   "outputs": [
    {
     "name": "stdout",
     "output_type": "stream",
     "text": [
      "120\n"
     ]
    }
   ],
   "source": [
    "list1=[1,2,3,4,5]\n",
    "product=1\n",
    "for i in list1:\n",
    "    product=product*i\n",
    "print(product)\n",
    "    "
   ]
  },
  {
   "cell_type": "code",
   "execution_count": null,
   "id": "5c46bc52-7d8f-446f-906f-f61e2f48eaa0",
   "metadata": {},
   "outputs": [],
   "source": [
    "6.create a python program that prints even numbers from 1 to 20 using for loop"
   ]
  },
  {
   "cell_type": "code",
   "execution_count": 12,
   "id": "89630ae1-f8df-4318-9613-1f2ede2eb294",
   "metadata": {},
   "outputs": [
    {
     "name": "stdout",
     "output_type": "stream",
     "text": [
      "2\n",
      "4\n",
      "6\n",
      "8\n",
      "10\n"
     ]
    }
   ],
   "source": [
    "for i in range(1,11):\n",
    "    if i%2==0:\n",
    "        print(i)"
   ]
  },
  {
   "cell_type": "code",
   "execution_count": null,
   "id": "3f71d872-8c87-4481-a021-791a8b0799f4",
   "metadata": {},
   "outputs": [],
   "source": [
    "7.write a python program that calculates the factorial of a number usingf for loop"
   ]
  },
  {
   "cell_type": "code",
   "execution_count": 27,
   "id": "85bd549f-b717-4dfe-bdef-5124f62b7518",
   "metadata": {},
   "outputs": [
    {
     "name": "stdin",
     "output_type": "stream",
     "text": [
      "enter a number 4\n"
     ]
    },
    {
     "name": "stdout",
     "output_type": "stream",
     "text": [
      "24\n"
     ]
    }
   ],
   "source": [
    "num=int(input(\"enter a number\"))\n",
    "fact=1\n",
    "for i in range(1,num+1):\n",
    "    fact=fact*i\n",
    "print(fact)"
   ]
  },
  {
   "cell_type": "code",
   "execution_count": null,
   "id": "8d08778a-041c-4f35-9825-444b4a9d747e",
   "metadata": {},
   "outputs": [],
   "source": [
    "8.. How can you iterate through the characters of a string using a for loop in Python?"
   ]
  },
  {
   "cell_type": "code",
   "execution_count": 28,
   "id": "2c8f3b79-2e4a-4303-a46e-52dbcc0e0c99",
   "metadata": {},
   "outputs": [
    {
     "name": "stdout",
     "output_type": "stream",
     "text": [
      "v\n",
      "a\n",
      "m\n",
      "s\n",
      "h\n",
      "i\n"
     ]
    }
   ],
   "source": [
    "name=\"vamshi\"\n",
    "for i in name:\n",
    "    print(i)"
   ]
  },
  {
   "cell_type": "code",
   "execution_count": null,
   "id": "7e487de1-b189-472f-851d-ed0ea7baa375",
   "metadata": {},
   "outputs": [],
   "source": [
    "9. Write a Python program to find the largest number in a list using a for loop.\n"
   ]
  },
  {
   "cell_type": "code",
   "execution_count": 46,
   "id": "259170bd-5e7c-448c-b39b-3e7528386711",
   "metadata": {},
   "outputs": [
    {
     "name": "stdout",
     "output_type": "stream",
     "text": [
      "5\n"
     ]
    }
   ],
   "source": [
    "list1=[1,2,3,4,5]\n",
    "product=1\n",
    "for i in list1:\n",
    "    if max(list1)==i:\n",
    "        print(i)"
   ]
  },
  {
   "cell_type": "code",
   "execution_count": null,
   "id": "486ce6e4-82ff-4e79-93f2-ceb5a2412843",
   "metadata": {},
   "outputs": [],
   "source": [
    "10.create a python program that prints the fibonacci sequence up to a specified limit"
   ]
  },
  {
   "cell_type": "code",
   "execution_count": 3,
   "id": "5c123b3b-9636-4ce2-8c2c-434fcd96f9f9",
   "metadata": {},
   "outputs": [
    {
     "name": "stdin",
     "output_type": "stream",
     "text": [
      "enter num 10\n"
     ]
    },
    {
     "name": "stdout",
     "output_type": "stream",
     "text": [
      "0 1 1 2 3 5 8 13 21 34 "
     ]
    }
   ],
   "source": [
    "n=int(input(\"enter num\"))\n",
    "a,b=0,1\n",
    "if n<=0:\n",
    "    print(\"ënter correcttly\")\n",
    "elif n==1:\n",
    "    print(a)\n",
    "else:\n",
    "    print(a,b,end=\" \")\n",
    "    for i in range(2,n):\n",
    "        fib=a+b\n",
    "        a,b=b,fib\n",
    "       \n",
    "        print(fib,end=\" \")"
   ]
  },
  {
   "cell_type": "code",
   "execution_count": null,
   "id": "9bf305a8-10ce-4a37-a905-46d1d5cd47a2",
   "metadata": {},
   "outputs": [],
   "source": [
    "11. Write a Python program to count the number of vowels in a given string using a for loop."
   ]
  },
  {
   "cell_type": "code",
   "execution_count": 1,
   "id": "7edccc74-0824-4e8f-a76c-e78f911ae589",
   "metadata": {},
   "outputs": [
    {
     "name": "stdin",
     "output_type": "stream",
     "text": [
      "enetre string vamshi\n"
     ]
    },
    {
     "name": "stdout",
     "output_type": "stream",
     "text": [
      "2\n"
     ]
    }
   ],
   "source": [
    "vowels=[\"a\",\"e\",\"i\",'o','u','A','E','I','O','U']\n",
    "string=input(\"enetre string\")\n",
    "count=0\n",
    "for i in string:\n",
    "    if i in vowels:\n",
    "        count=count+1\n",
    "print(count)"
   ]
  },
  {
   "cell_type": "code",
   "execution_count": null,
   "id": "e68417da-c352-4b4f-a3e3-859013e9b092",
   "metadata": {},
   "outputs": [],
   "source": [
    "12. Create a Python program that generates a multiplication table for a given number using a for\n",
    "loop.\n"
   ]
  },
  {
   "cell_type": "code",
   "execution_count": 3,
   "id": "340ab9f3-ac7a-476c-903a-9c712b519541",
   "metadata": {},
   "outputs": [
    {
     "name": "stdin",
     "output_type": "stream",
     "text": [
      "enter a number 2\n"
     ]
    },
    {
     "name": "stdout",
     "output_type": "stream",
     "text": [
      "2 4 6 8 10 12 14 16 18 20 "
     ]
    }
   ],
   "source": [
    "n=int(input(\"enter a number\"))\n",
    "for i in range(1,11):\n",
    "    multi=n*i\n",
    "    print(multi,end=' ')"
   ]
  },
  {
   "cell_type": "code",
   "execution_count": null,
   "id": "dac04ef5-7216-45b7-a971-0ac804867bbf",
   "metadata": {},
   "outputs": [],
   "source": [
    "13. Write a Python program to reverse a list using a for loop."
   ]
  },
  {
   "cell_type": "code",
   "execution_count": 18,
   "id": "3652d0df-2b03-4370-99e5-630551ef60d4",
   "metadata": {},
   "outputs": [
    {
     "name": "stdout",
     "output_type": "stream",
     "text": [
      "[4, 3, 2, 1]\n"
     ]
    }
   ],
   "source": [
    "list1=[1,2,3,4]\n",
    "reversed_list=[]\n",
    "for i in reversed(list1):\n",
    "    reversed_list.append(i)\n",
    "print(reversed_list)"
   ]
  },
  {
   "cell_type": "code",
   "execution_count": null,
   "id": "c25922a9-19e7-4486-9109-4efb8e88c5ab",
   "metadata": {},
   "outputs": [],
   "source": [
    "14. Write a Python program to find the common elements between two lists using a for loop."
   ]
  },
  {
   "cell_type": "code",
   "execution_count": 20,
   "id": "34827478-b406-42d0-aefb-956492049968",
   "metadata": {},
   "outputs": [
    {
     "name": "stdout",
     "output_type": "stream",
     "text": [
      "2\n",
      "3\n"
     ]
    }
   ],
   "source": [
    "list1=[1,2,3,4]\n",
    "list2=[2,3,6,7]\n",
    "for i in list1:\n",
    "    if i in list2:\n",
    "        print(i)"
   ]
  },
  {
   "cell_type": "code",
   "execution_count": null,
   "id": "8517e78a-0faf-4d1f-988a-b22874273ae8",
   "metadata": {},
   "outputs": [],
   "source": [
    "15. Explain how to use a for loop to iterate through the keys and values of a dictionary in Python.\n"
   ]
  },
  {
   "cell_type": "code",
   "execution_count": 27,
   "id": "005e6f24-08af-4719-9290-6394bbc3ed73",
   "metadata": {},
   "outputs": [
    {
     "name": "stdout",
     "output_type": "stream",
     "text": [
      "vamshi\n",
      "25\n"
     ]
    }
   ],
   "source": [
    "dic={'name':\"vamshi\",'age':\"25\"}\n",
    "for i in dic.values():\n",
    "    print(i)"
   ]
  },
  {
   "cell_type": "code",
   "execution_count": 28,
   "id": "17e8d555-92d2-413a-b211-42269deff986",
   "metadata": {},
   "outputs": [
    {
     "name": "stdout",
     "output_type": "stream",
     "text": [
      "name\n",
      "age\n"
     ]
    }
   ],
   "source": [
    "dic={'name':\"vamshi\",'age':\"25\"}\n",
    "for i in dic.keys():\n",
    "    print(i)"
   ]
  },
  {
   "cell_type": "code",
   "execution_count": 29,
   "id": "3d809d87-8095-4fe3-80b8-61ddc88b5bf9",
   "metadata": {},
   "outputs": [
    {
     "name": "stdout",
     "output_type": "stream",
     "text": [
      "('name', 'vamshi')\n",
      "('age', '25')\n"
     ]
    }
   ],
   "source": [
    "dic={'name':\"vamshi\",'age':\"25\"}\n",
    "for i in dic.items():\n",
    "    print(i)"
   ]
  },
  {
   "cell_type": "code",
   "execution_count": null,
   "id": "402dff7b-2023-4f02-a927-4d9d26518f05",
   "metadata": {},
   "outputs": [],
   "source": [
    "16. Write a Python program to find the GCD (Greatest Common Divisor) of two numbers using a for\n",
    "loop."
   ]
  },
  {
   "cell_type": "code",
   "execution_count": 30,
   "id": "c3b344ef-a14d-4f1e-909b-518fce1ae2f3",
   "metadata": {},
   "outputs": [
    {
     "name": "stdin",
     "output_type": "stream",
     "text": [
      "enter a number 12\n",
      "enter a number 6\n"
     ]
    },
    {
     "name": "stdout",
     "output_type": "stream",
     "text": [
      "6\n"
     ]
    }
   ],
   "source": [
    "num1=int(input(\"enter a number\"))\n",
    "num2=int(input(\"enter a number\"))\n",
    "gcd=1\n",
    "minimum=min(num1,num2)\n",
    "for i in range(1,minimum+1):\n",
    "    if num1%i==0 and num2%i==0:\n",
    "        gcd=i\n",
    "print(gcd)"
   ]
  },
  {
   "cell_type": "code",
   "execution_count": null,
   "id": "47755ea2-56e6-4d14-b487-e8b6cc5fc857",
   "metadata": {},
   "outputs": [],
   "source": [
    "17. Create a Python program that checks if a string is a palindrome using a for loop."
   ]
  },
  {
   "cell_type": "code",
   "execution_count": 55,
   "id": "4c9308a7-7c06-422e-885d-b8a1b43fa435",
   "metadata": {},
   "outputs": [
    {
     "name": "stdin",
     "output_type": "stream",
     "text": [
      "enter string pop\n"
     ]
    },
    {
     "name": "stdout",
     "output_type": "stream",
     "text": [
      "palindrome\n"
     ]
    }
   ],
   "source": [
    "stri=input(\"enter string\")\n",
    "reversed_stri=\"\"\n",
    "for i in reversed(stri):\n",
    "    reversed_stri=reversed_stri+i\n",
    "if stri==reversed_stri:\n",
    "    print('palindrome')\n",
    "else:\n",
    "    print(\"mot palindrome\")"
   ]
  },
  {
   "cell_type": "code",
   "execution_count": null,
   "id": "6ab482a3-b01f-47db-a1ec-5b5158d366d7",
   "metadata": {},
   "outputs": [],
   "source": [
    "18. Write a Python program to remove duplicates from a list using a for loop.\n"
   ]
  },
  {
   "cell_type": "code",
   "execution_count": 58,
   "id": "ecef1f6a-3987-4c01-bb3d-3c45caae01b1",
   "metadata": {},
   "outputs": [
    {
     "name": "stdout",
     "output_type": "stream",
     "text": [
      "[1, 2, 3, 4, 5, 6]\n"
     ]
    }
   ],
   "source": [
    "list1=[1,2,3,4,5,6,6,6]\n",
    "list2=[]\n",
    "for i in list1:\n",
    "    if i not in list2:\n",
    "        list2.append(i)\n",
    "print(list2)"
   ]
  },
  {
   "cell_type": "code",
   "execution_count": null,
   "id": "3f8b7f2c-fdf5-47c8-bd50-48fc452e83ad",
   "metadata": {},
   "outputs": [],
   "source": [
    "19. Create a Python program that counts the number of words in a sentence using a for loop.\n"
   ]
  },
  {
   "cell_type": "code",
   "execution_count": 67,
   "id": "c3b7c680-d21b-4454-8825-6e86e52d73cc",
   "metadata": {},
   "outputs": [
    {
     "name": "stdout",
     "output_type": "stream",
     "text": [
      "3\n"
     ]
    }
   ],
   "source": [
    "sentence=\"this is vamshi\"\n",
    "count=0\n",
    "for i in sentence.split():\n",
    "        count=count+1\n",
    "print(count)"
   ]
  },
  {
   "cell_type": "code",
   "execution_count": null,
   "id": "710ac6a5-c9c2-4ea3-8b69-3213e427ee60",
   "metadata": {},
   "outputs": [],
   "source": [
    "20. Write a Python program to find the sum of all odd numbers from 1 to 50 using a for loop."
   ]
  },
  {
   "cell_type": "code",
   "execution_count": 70,
   "id": "bfd46c26-88b1-4b19-abdf-45ab36ddede1",
   "metadata": {},
   "outputs": [
    {
     "name": "stdout",
     "output_type": "stream",
     "text": [
      "625\n"
     ]
    }
   ],
   "source": [
    "sum=0\n",
    "for i in range(1,51):\n",
    "    if i%2!=0:\n",
    "        sum=sum+i\n",
    "print(sum)"
   ]
  },
  {
   "cell_type": "code",
   "execution_count": null,
   "id": "730aa102-13dd-45db-956c-133d5c313f4e",
   "metadata": {},
   "outputs": [],
   "source": [
    "21. Write a Python program that checks if a given year is a leap year using a for loop."
   ]
  },
  {
   "cell_type": "code",
   "execution_count": 76,
   "id": "992b2e53-5cee-4147-8c35-db022b43561c",
   "metadata": {},
   "outputs": [
    {
     "name": "stdin",
     "output_type": "stream",
     "text": [
      "enter year 2000\n"
     ]
    },
    {
     "name": "stdout",
     "output_type": "stream",
     "text": [
      "leap year\n"
     ]
    }
   ],
   "source": [
    "a=int(input('enter year'))\n",
    "is_leapyear=False\n",
    "for i in range(1900,a+1):\n",
    "    if (a%4==0 and a%100!=0) or (a%400==0):\n",
    "        is_leapyear=True\n",
    "        break\n",
    "if is_leapyear:\n",
    "    print(\"leap year\")\n",
    "else:\n",
    "    PRINT(\"NOT LEAP YEAR\")"
   ]
  },
  {
   "cell_type": "code",
   "execution_count": null,
   "id": "bd5fc9c4-532f-47da-b0df-92a4e94428b5",
   "metadata": {},
   "outputs": [],
   "source": [
    "22.Create a Python program that calculates the square root of a number using a for loop.\n"
   ]
  },
  {
   "cell_type": "code",
   "execution_count": 4,
   "id": "7892ed46-bcc9-4e11-9ca5-1d62da71c2e2",
   "metadata": {},
   "outputs": [
    {
     "name": "stdin",
     "output_type": "stream",
     "text": [
      "Enter a number:  4\n"
     ]
    },
    {
     "name": "stdout",
     "output_type": "stream",
     "text": [
      "The square root of 4.0 is approximately 2.0\n"
     ]
    }
   ],
   "source": [
    "number = float(input(\"Enter a number: \"))\n",
    "\n",
    "guess = number / 2.0\n",
    "\n",
    "for _ in range(15):\n",
    "    guess = 0.5 * (guess + number / guess)  \n",
    "\n",
    "\n",
    "print(f\"The square root of {number} is approximately {guess}\")\n"
   ]
  },
  {
   "cell_type": "code",
   "execution_count": null,
   "id": "2ab7eef8-ca71-408c-90c1-a5ee8316132f",
   "metadata": {},
   "outputs": [],
   "source": [
    "23. Write a Python program to find the LCM (Least Common Multiple) of two numbers using a for\n",
    "loop.\n"
   ]
  },
  {
   "cell_type": "code",
   "execution_count": 7,
   "id": "8db8cf55-3d67-45fa-bbb0-34f87e48ac53",
   "metadata": {},
   "outputs": [
    {
     "name": "stdin",
     "output_type": "stream",
     "text": [
      "enter 1 number 23\n",
      "enter 2 number 34\n"
     ]
    },
    {
     "name": "stdout",
     "output_type": "stream",
     "text": [
      "782\n"
     ]
    }
   ],
   "source": [
    "n1=int(input(\"enter 1 number\"))\n",
    "n2=int(input(\"enter 2 number\"))\n",
    "maximum=max(n1,n2)\n",
    "for i in range(maximum,n1*n2+1):\n",
    "    if i%n1==0 and i%n2==0:\n",
    "        lcm=i\n",
    "        break\n",
    "print(lcm)"
   ]
  },
  {
   "cell_type": "code",
   "execution_count": null,
   "id": "8d7a538e-a6b2-4f06-94f2-c1be82342876",
   "metadata": {},
   "outputs": [],
   "source": [
    "IF ELSE "
   ]
  },
  {
   "cell_type": "code",
   "execution_count": null,
   "id": "df46c16d-7beb-4b7a-8d5c-add55f66b27f",
   "metadata": {},
   "outputs": [],
   "source": [
    "1.write a python program to check if a num is positive,negative or  zero using an if else statement"
   ]
  },
  {
   "cell_type": "code",
   "execution_count": 8,
   "id": "34ae8967-eaf3-43e6-bf5b-6ed5a578878d",
   "metadata": {},
   "outputs": [
    {
     "name": "stdin",
     "output_type": "stream",
     "text": [
      "enter a number 23\n"
     ]
    },
    {
     "name": "stdout",
     "output_type": "stream",
     "text": [
      "positive\n"
     ]
    }
   ],
   "source": [
    "n=int(input(\"enter a number\"))\n",
    "if n!=0:\n",
    "    if n<0:\n",
    "        print(\"negative\")\n",
    "    else:\n",
    "        print(\"positive\")\n",
    "else:\n",
    "    print(\"zero\")\n",
    "        "
   ]
  },
  {
   "cell_type": "code",
   "execution_count": null,
   "id": "bbf884ca-657d-48df-8b38-b34395f4cc9e",
   "metadata": {},
   "outputs": [],
   "source": [
    "2. Create a Python program that checks if a given number is even or odd using an if-else statement.\n"
   ]
  },
  {
   "cell_type": "code",
   "execution_count": 9,
   "id": "624ead4c-ef94-4147-ab74-4806d16edc35",
   "metadata": {},
   "outputs": [],
   "source": [
    "def even_odd(n):\n",
    "    if n%2==0:\n",
    "        return 'even'\n",
    "    else:\n",
    "        return 'odd'"
   ]
  },
  {
   "cell_type": "code",
   "execution_count": 10,
   "id": "71c28b04-4b82-4819-835f-a100cc52e478",
   "metadata": {},
   "outputs": [
    {
     "data": {
      "text/plain": [
       "'even'"
      ]
     },
     "execution_count": 10,
     "metadata": {},
     "output_type": "execute_result"
    }
   ],
   "source": [
    "even_odd(24)"
   ]
  },
  {
   "cell_type": "code",
   "execution_count": null,
   "id": "e4c75c2a-9dd4-42de-80eb-970511e4ae12",
   "metadata": {},
   "outputs": [],
   "source": [
    "3. How can you use nested if-else statements in Python, and provide an example?"
   ]
  },
  {
   "cell_type": "code",
   "execution_count": null,
   "id": "a37781ad-4ea5-4d31-93db-db13b9186d24",
   "metadata": {},
   "outputs": [],
   "source": [
    "\n",
    "Nested if-else statements in Python allow you to have multiple levels of conditions, where each condition is checked based on the \n",
    "result of the previous condition. This can be useful for handling various scenarios in your code. "
   ]
  },
  {
   "cell_type": "code",
   "execution_count": null,
   "id": "dddd35f8-878f-4539-9df9-1fa4f14a56f6",
   "metadata": {},
   "outputs": [],
   "source": [
    "4. Write a Python program to determine the largest of three numbers using if-else."
   ]
  },
  {
   "cell_type": "code",
   "execution_count": 11,
   "id": "a99633f5-a9cb-434b-9469-310fb65782cf",
   "metadata": {},
   "outputs": [
    {
     "name": "stdin",
     "output_type": "stream",
     "text": [
      "enter first number 2\n",
      "enter second number 34\n",
      "enter third number 400\n"
     ]
    },
    {
     "name": "stdout",
     "output_type": "stream",
     "text": [
      "c is largest\n"
     ]
    }
   ],
   "source": [
    "a=int(input('enter first number'))\n",
    "b=int(input('enter second number'))\n",
    "c=int(input('enter third number'))\n",
    "if a>b and a>c:\n",
    "    print('a  is largest')\n",
    "elif b>a and b>c:\n",
    "    print('b is largest')\n",
    "else:\n",
    "    print('c is largest')"
   ]
  },
  {
   "cell_type": "code",
   "execution_count": null,
   "id": "9253c590-8367-4261-98b8-89b5b1ae9d3e",
   "metadata": {},
   "outputs": [],
   "source": [
    "5. Write a Python program that calculates the absolute value of a number using if-else."
   ]
  },
  {
   "cell_type": "code",
   "execution_count": 12,
   "id": "8df021a0-f90c-4bf6-b675-562ddea20d52",
   "metadata": {},
   "outputs": [
    {
     "name": "stdin",
     "output_type": "stream",
     "text": [
      "enter number -20\n"
     ]
    },
    {
     "name": "stdout",
     "output_type": "stream",
     "text": [
      "20\n"
     ]
    }
   ],
   "source": [
    "a=int(input('enter number'))\n",
    "if a<0:\n",
    "    b=-(a)\n",
    "    print(b)\n",
    "else:\n",
    "    print(a)"
   ]
  },
  {
   "cell_type": "code",
   "execution_count": null,
   "id": "626fdc4c-5123-4f1c-8819-83b7e19165e3",
   "metadata": {},
   "outputs": [],
   "source": [
    "6. Create a Python program that checks if a given character is a vowel or consonant using if-else.\n"
   ]
  },
  {
   "cell_type": "code",
   "execution_count": 13,
   "id": "4d191184-93b8-4630-aeb0-35aa657de4bc",
   "metadata": {},
   "outputs": [
    {
     "name": "stdin",
     "output_type": "stream",
     "text": [
      "enter character z\n"
     ]
    },
    {
     "name": "stdout",
     "output_type": "stream",
     "text": [
      "consonant\n"
     ]
    }
   ],
   "source": [
    "a=input('enter character')\n",
    "\n",
    "vowels=['a','e','i','o','u','A','E,''I','O','U']\n",
    "if a in vowels:\n",
    "    print(\"char is vowel\")\n",
    "else:\n",
    "    print(\"consonant\")"
   ]
  },
  {
   "cell_type": "code",
   "execution_count": null,
   "id": "2b151d26-1664-4a27-bfaf-e65b0aab0561",
   "metadata": {},
   "outputs": [],
   "source": [
    "7. Write a Python program to determine if a user is eligible to vote based on their age using if-else."
   ]
  },
  {
   "cell_type": "code",
   "execution_count": 14,
   "id": "85a705ed-e211-4840-ad59-5bfdf39e161b",
   "metadata": {},
   "outputs": [
    {
     "name": "stdin",
     "output_type": "stream",
     "text": [
      "enter age 65\n"
     ]
    },
    {
     "name": "stdout",
     "output_type": "stream",
     "text": [
      "eligible for vote\n"
     ]
    }
   ],
   "source": [
    "a=int(input('enter age'))\n",
    "if a>=18:\n",
    "    print(\"eligible for vote\")\n",
    "else:\n",
    "    print(\"not eligible for vote\")"
   ]
  },
  {
   "cell_type": "code",
   "execution_count": null,
   "id": "b97d8864-b65d-49e1-b48f-0a40c077dad1",
   "metadata": {},
   "outputs": [],
   "source": [
    "8. Create a Python program that calculates the discount amount based on the purchase amount\n",
    "using if-else.\n"
   ]
  },
  {
   "cell_type": "code",
   "execution_count": 17,
   "id": "0756e6b4-ae4c-44b8-9644-074e0009f226",
   "metadata": {},
   "outputs": [
    {
     "name": "stdin",
     "output_type": "stream",
     "text": [
      "enter purchase amount 100001\n"
     ]
    },
    {
     "name": "stdout",
     "output_type": "stream",
     "text": [
      "50000.5\n"
     ]
    }
   ],
   "source": [
    "n=int(input(\"enter purchase amount\"))\n",
    "if n>=10000:\n",
    "    discount=n*0.5\n",
    "    print(discount)\n",
    "elif n<=5000:\n",
    "    discount=n*0.25\n",
    "    print(discount)\n",
    "else:\n",
    "    print(\"a chocolate box\")\n"
   ]
  },
  {
   "cell_type": "code",
   "execution_count": null,
   "id": "190bfdea-0bee-4403-a2a7-3a41b3a2f253",
   "metadata": {},
   "outputs": [],
   "source": [
    "9. Write a Python program to check if a number is within a specified range using if-else"
   ]
  },
  {
   "cell_type": "code",
   "execution_count": 2,
   "id": "bdc67da6-defb-4e5c-b964-20f27c5ead28",
   "metadata": {},
   "outputs": [
    {
     "name": "stdin",
     "output_type": "stream",
     "text": [
      "enter a number 12\n"
     ]
    },
    {
     "name": "stdout",
     "output_type": "stream",
     "text": [
      "yes number is between specified lower and upper limit\n"
     ]
    }
   ],
   "source": [
    "lower_limit=10\n",
    "upper_limit=60\n",
    "n=int(input(\"enter a number\"))\n",
    "if n>=lower_limit and n<=upper_limit:\n",
    "    print(\"yes number is between specified lower and upper limit\")\n",
    "else:\n",
    "    print(\"not within specified range\") "
   ]
  },
  {
   "cell_type": "code",
   "execution_count": null,
   "id": "5a1ab6ef-59e2-4edf-bfd7-718691f76620",
   "metadata": {},
   "outputs": [],
   "source": [
    "10. Create a Python program that determines the grade of a student based on their score using\n",
    "if-else.\n"
   ]
  },
  {
   "cell_type": "code",
   "execution_count": 3,
   "id": "ba995f67-679c-4040-a057-fa7f6b584591",
   "metadata": {},
   "outputs": [
    {
     "name": "stdin",
     "output_type": "stream",
     "text": [
      "enter score 56\n"
     ]
    },
    {
     "name": "stdout",
     "output_type": "stream",
     "text": [
      "D\n"
     ]
    }
   ],
   "source": [
    "score=int(input('enter score'))\n",
    "if 90<=score>=100:\n",
    "    print('A+')\n",
    "elif 80<=score <=90:\n",
    "    print('A')\n",
    "elif score>=70:\n",
    "    print('B')\n",
    "elif score>=60:\n",
    "    print('C')\n",
    "elif score>=50:\n",
    "    print('D')\n",
    "else:\n",
    "    print('FAIL')\n",
    "    "
   ]
  },
  {
   "cell_type": "code",
   "execution_count": null,
   "id": "4e0ca0f1-e810-4158-8367-421f7f81e1eb",
   "metadata": {},
   "outputs": [],
   "source": [
    "11. Write a Python program to check if a string is empty or not using if-else.\n"
   ]
  },
  {
   "cell_type": "code",
   "execution_count": 5,
   "id": "e45610ac-72f0-4519-bcc5-963f37a72a0e",
   "metadata": {},
   "outputs": [
    {
     "name": "stdin",
     "output_type": "stream",
     "text": [
      "enter a string \n"
     ]
    },
    {
     "name": "stdout",
     "output_type": "stream",
     "text": [
      "string is empty\n"
     ]
    }
   ],
   "source": [
    "stri=input(\"enter a string\")\n",
    "if stri==\"\":\n",
    "    print(\"string is empty\")\n",
    "else:\n",
    "    print(\"string is not empty\")"
   ]
  },
  {
   "cell_type": "code",
   "execution_count": null,
   "id": "3e0f4cb3-e869-44a6-b3f9-cce5e0c230c8",
   "metadata": {},
   "outputs": [],
   "source": [
    "12. Create a Python program that identifies the type of a triangle (e.g., equilateral, isosceles, or\n",
    "scalene) based on input values using if-else"
   ]
  },
  {
   "cell_type": "code",
   "execution_count": 6,
   "id": "7b3c85b0-f488-4e6a-902d-954a2d1db386",
   "metadata": {},
   "outputs": [
    {
     "name": "stdin",
     "output_type": "stream",
     "text": [
      "enter first side 2\n",
      "enter second side 3\n",
      "enter third side 5\n"
     ]
    },
    {
     "name": "stdout",
     "output_type": "stream",
     "text": [
      "scalene\n"
     ]
    }
   ],
   "source": [
    "a=int(input('enter first side'))\n",
    "b=int(input('enter second side'))\n",
    "c=int(input('enter third side'))\n",
    "if a==b:\n",
    "    if b==c:\n",
    "        print(\"equilateral\")\n",
    "    else:\n",
    "        print(\"isosceles\")\n",
    "else:\n",
    "    print(\"scalene\")  "
   ]
  },
  {
   "cell_type": "code",
   "execution_count": null,
   "id": "2fbd1170-4754-4bff-b2f5-a8220fae2f25",
   "metadata": {},
   "outputs": [],
   "source": [
    "13. Write a Python program to determine the day of the week based on a user-provided number\n",
    "using if-else"
   ]
  },
  {
   "cell_type": "code",
   "execution_count": 7,
   "id": "3cbb1e83-0ccf-465b-982b-c82df0d0dc6c",
   "metadata": {},
   "outputs": [
    {
     "name": "stdin",
     "output_type": "stream",
     "text": [
      "enter a number of day in a week 1\n"
     ]
    },
    {
     "name": "stdout",
     "output_type": "stream",
     "text": [
      "monday\n"
     ]
    }
   ],
   "source": [
    "n=int(input(\"enter a number of day in a week\"))\n",
    "list=[\"monday\",\"tuesday\",\"wed\",\"thur\",\"fri\",\"sat\",\"sun\"]\n",
    "if n>=1 and n<=7:\n",
    "    b=list[n-1]\n",
    "    print(b)\n",
    "else:\n",
    "    print(\"enter correct value between 1 and 8\")"
   ]
  },
  {
   "cell_type": "code",
   "execution_count": null,
   "id": "8e01f406-9836-435a-934f-53949091d7ad",
   "metadata": {},
   "outputs": [],
   "source": [
    "14. Create a Python program that checks if a given year is a leap year using both if-else and a\n",
    "function."
   ]
  },
  {
   "cell_type": "code",
   "execution_count": 12,
   "id": "120b2f76-861d-4bca-8d3b-f39780b35cac",
   "metadata": {},
   "outputs": [],
   "source": [
    "def leap_year(a):\n",
    "    if (a%4==0 and a%100!=0) or a%400==0:\n",
    "        print('leap year')\n",
    "    else:\n",
    "        print(\"not leap year\")\n"
   ]
  },
  {
   "cell_type": "code",
   "execution_count": 13,
   "id": "bdd96c4b-2c7f-4ad9-b1d3-6f3d3b247d47",
   "metadata": {},
   "outputs": [
    {
     "name": "stdout",
     "output_type": "stream",
     "text": [
      "leap year\n"
     ]
    }
   ],
   "source": [
    "leap_year(2000)"
   ]
  },
  {
   "cell_type": "code",
   "execution_count": null,
   "id": "9875d563-189a-4f9b-95ab-cd323259fa7d",
   "metadata": {},
   "outputs": [],
   "source": [
    "15. How do you use the \"assert\" statement in Python to add debugging checks within if-else blocks?"
   ]
  },
  {
   "cell_type": "code",
   "execution_count": 17,
   "id": "57649340-ef32-4e93-95d4-52dd4bceed93",
   "metadata": {},
   "outputs": [],
   "source": [
    "def asser(x):\n",
    "    if x>18:\n",
    "        assert x<70\n",
    "        print(\"eligible for vote in village\")\n",
    "    else:\n",
    "        print(\"not eligible\")"
   ]
  },
  {
   "cell_type": "code",
   "execution_count": 18,
   "id": "71903515-8537-4151-ade9-1ec39741f5dc",
   "metadata": {},
   "outputs": [
    {
     "name": "stdout",
     "output_type": "stream",
     "text": [
      "not eligible\n"
     ]
    }
   ],
   "source": [
    "asser(1)"
   ]
  },
  {
   "cell_type": "code",
   "execution_count": 23,
   "id": "21ed011b-179d-4a92-a7ff-8b7e0fc65d0a",
   "metadata": {},
   "outputs": [
    {
     "name": "stdout",
     "output_type": "stream",
     "text": [
      "eligible for vote in village\n"
     ]
    }
   ],
   "source": [
    "asser(69)"
   ]
  },
  {
   "cell_type": "code",
   "execution_count": null,
   "id": "00a0c70d-df05-43fd-ad44-058bf3f11a0d",
   "metadata": {},
   "outputs": [],
   "source": [
    "\n",
    "In Python, the `assert` statement is used to add debugging checks within your code to verify if certain conditions are met. \n",
    "If the condition provided to `assert` evaluates to `True`, the program continues to execute without any issues. However, if the condition evaluates to\n",
    "`False`, an `AssertionError` exception is raised, indicating that there is a problem in your code.\n",
    "\n",
    "You can use the `assert` statement within if-else blocks to check conditions and raise an assertion error if the condition is not met. \n",
    "Here's how you can use it:\n",
    "\n",
    "\n",
    "Using `assert` in this way can be helpful during development and debugging to catch unexpected conditions or bugs in your code. \n",
    "However, it's important to note that `assert` statements are typically disabled in optimized production code, so they should not be used as a \n",
    "substitute for proper error handling in production systems."
   ]
  },
  {
   "cell_type": "code",
   "execution_count": 22,
   "id": "8148bae7-c5c9-4ce7-8c13-d85fa1ff59d4",
   "metadata": {},
   "outputs": [
    {
     "name": "stdout",
     "output_type": "stream",
     "text": [
      "x is greater than 0 and less than 10.\n"
     ]
    }
   ],
   "source": [
    "x = 5\n",
    "\n",
    "if x > 0:\n",
    "    # Use assert to check a condition\n",
    "    assert x < 10, \"x should be less than 10\"\n",
    "    print(\"x is greater than 0 and less than 10.\")\n",
    "else:\n",
    "    print(\"x is not greater than 0.\")\n"
   ]
  },
  {
   "cell_type": "code",
   "execution_count": null,
   "id": "fea5d732-104e-4424-bde3-6b80c96a1c05",
   "metadata": {},
   "outputs": [],
   "source": [
    "16. Create a Python program that determines the eligibility of a person for a senior citizen discount\n",
    "based on age using if-else"
   ]
  },
  {
   "cell_type": "code",
   "execution_count": 25,
   "id": "3dbc5803-fd5c-4388-a9ea-d082dd7163c5",
   "metadata": {},
   "outputs": [
    {
     "name": "stdin",
     "output_type": "stream",
     "text": [
      "enter the age 61\n"
     ]
    },
    {
     "name": "stdout",
     "output_type": "stream",
     "text": [
      "eligible for senior citizen discount\n"
     ]
    }
   ],
   "source": [
    "age=int(input(\"enter the age\"))\n",
    "if age>=60:\n",
    "    print(\"eligible for senior citizen discount\")\n",
    "else:\n",
    "    print(\"not eligible for senior citizen discount\")"
   ]
  },
  {
   "cell_type": "code",
   "execution_count": null,
   "id": "dcdb6936-6285-45ba-84bb-b15c5f05d330",
   "metadata": {},
   "outputs": [],
   "source": [
    "17. Write a Python program to categorize a given character as uppercase, lowercase, or neither\n",
    "using if-else."
   ]
  },
  {
   "cell_type": "code",
   "execution_count": 40,
   "id": "021348d0-83a3-4684-ab87-b89c1e4beab0",
   "metadata": {},
   "outputs": [],
   "source": [
    "def character(str1):\n",
    "    if str1.isupper():\n",
    "        print(\"character is upper\")\n",
    "    elif str1.islower():\n",
    "        print(\"character is lower\")\n",
    "    else:\n",
    "        print(\"neither upper nor lower\")"
   ]
  },
  {
   "cell_type": "code",
   "execution_count": 41,
   "id": "87ee1d6b-ff60-46cf-b5a1-b1a115f561e5",
   "metadata": {},
   "outputs": [
    {
     "name": "stdout",
     "output_type": "stream",
     "text": [
      "character is lower\n"
     ]
    }
   ],
   "source": [
    "character(\"m\")"
   ]
  },
  {
   "cell_type": "code",
   "execution_count": 42,
   "id": "a9a68792-3541-4d27-acef-58d16ae4aab1",
   "metadata": {},
   "outputs": [
    {
     "name": "stdout",
     "output_type": "stream",
     "text": [
      "neither upper nor lower\n"
     ]
    }
   ],
   "source": [
    "character(\"Madam\")"
   ]
  },
  {
   "cell_type": "code",
   "execution_count": 43,
   "id": "cfe2ba77-2bee-4431-b774-1af3c587e03c",
   "metadata": {},
   "outputs": [
    {
     "name": "stdout",
     "output_type": "stream",
     "text": [
      "neither upper nor lower\n"
     ]
    }
   ],
   "source": [
    "character(\"Vamshi12\")"
   ]
  },
  {
   "cell_type": "code",
   "execution_count": 44,
   "id": "f0bda145-f2b0-4627-90b7-d952ca0edeba",
   "metadata": {},
   "outputs": [
    {
     "name": "stdout",
     "output_type": "stream",
     "text": [
      "character is upper\n"
     ]
    }
   ],
   "source": [
    "character(\"M\")"
   ]
  },
  {
   "cell_type": "code",
   "execution_count": null,
   "id": "278c74d7-a136-4f39-b3c0-35f13a9a32ae",
   "metadata": {},
   "outputs": [],
   "source": [
    "18. Write a Python program to determine the roots of a quadratic equation using if-else"
   ]
  },
  {
   "cell_type": "code",
   "execution_count": 1,
   "id": "24c31b82-ca9b-49df-8530-f7139cc9abda",
   "metadata": {},
   "outputs": [
    {
     "name": "stdin",
     "output_type": "stream",
     "text": [
      "enter coefficient of a 12\n",
      "enter coefficient of b 6\n",
      "enter coefficient of c 324\n"
     ]
    },
    {
     "name": "stdout",
     "output_type": "stream",
     "text": [
      "14.784609690826528\n",
      "-26.784609690826528\n"
     ]
    }
   ],
   "source": [
    "import math\n",
    "a=int(input(\"enter coefficient of a\"))\n",
    "b=int(input(\"enter coefficient of b\"))\n",
    "c=int(input(\"enter coefficient of c\"))\n",
    "\n",
    "determinant=(b**2)-(4*a*c)\n",
    "root1=(-b+(math.sqrt(a))/2*a)\n",
    "root2=(-b-(math.sqrt(a))/2*a)\n",
    "print(root1)\n",
    "print(root2)"
   ]
  },
  {
   "cell_type": "code",
   "execution_count": null,
   "id": "c50a43cc-e511-41ba-8929-47c668f144e8",
   "metadata": {},
   "outputs": [],
   "source": [
    "19. Create a Python program that checks if a given year is a century year or not using if-else.\n"
   ]
  },
  {
   "cell_type": "code",
   "execution_count": 13,
   "id": "4136972a-4637-4d91-b683-d8d98528c47f",
   "metadata": {},
   "outputs": [
    {
     "name": "stdin",
     "output_type": "stream",
     "text": [
      "enter a year 1000\n"
     ]
    },
    {
     "name": "stdout",
     "output_type": "stream",
     "text": [
      "century year\n"
     ]
    }
   ],
   "source": [
    "n=int(input(\"enter a year\"))\n",
    "if n%100==0:\n",
    "    print(\"century year\")\n",
    "else:\n",
    "    print(\"non_century year\")"
   ]
  },
  {
   "cell_type": "code",
   "execution_count": null,
   "id": "5bba9525-a905-4afe-8e6d-b9d4d8e72ec7",
   "metadata": {},
   "outputs": [],
   "source": [
    "20. Write a Python program to determine if a given number is a perfect square using if-else.\n"
   ]
  },
  {
   "cell_type": "code",
   "execution_count": 29,
   "id": "5e033aaf-c186-4a6b-9577-1adf6f75ac20",
   "metadata": {},
   "outputs": [
    {
     "name": "stdin",
     "output_type": "stream",
     "text": [
      "enter a number 9\n"
     ]
    },
    {
     "name": "stdout",
     "output_type": "stream",
     "text": [
      "perfect square\n"
     ]
    }
   ],
   "source": [
    "import math\n",
    "n=int(input(\"enter a number\"))\n",
    "a=math.sqrt(n)\n",
    "if a==int(a):\n",
    "    print(\"perfect square\")\n",
    "else:\n",
    "    print(\"not a perfect square\")"
   ]
  },
  {
   "cell_type": "code",
   "execution_count": 33,
   "id": "770c9c33-86a3-44bf-9b7d-214ddfe227fd",
   "metadata": {},
   "outputs": [
    {
     "name": "stdin",
     "output_type": "stream",
     "text": [
      "enter a number 5\n"
     ]
    },
    {
     "name": "stdout",
     "output_type": "stream",
     "text": [
      "not a perfect square\n"
     ]
    }
   ],
   "source": [
    "import math\n",
    "n=int(input(\"enter a number\"))\n",
    "a=math.sqrt(n)\n",
    "if a.is_integer():\n",
    "    print(\"perfect square\")\n",
    "else:\n",
    "    print(\"not a perfect square\")"
   ]
  },
  {
   "cell_type": "code",
   "execution_count": null,
   "id": "38b714b5-c489-4c96-bdc1-151b7af6ea08",
   "metadata": {},
   "outputs": [],
   "source": [
    "21. Explain the purpose of the \"continue\" and \"break\" statements within if-else loops."
   ]
  },
  {
   "cell_type": "code",
   "execution_count": null,
   "id": "a323ed93-668f-4a6b-b049-e98089ea7c59",
   "metadata": {},
   "outputs": [],
   "source": [
    "The \"continue\" and \"break\" statements are control flow statements used within loops, including if-else loops (such as for and while loops), \n",
    "to control the flow of the program. Here's an explanation of the purpose of each:\n",
    "\n",
    "1. continue Statement:\n",
    "\n",
    "   The `continue` statement is used to skip the rest of the current iteration of a loop (for, while, or within an if-else block) and \n",
    "move to the next iteration. It is typically used when you want to skip some specific code within a loop based on a condition but continue with \n",
    "the next iteration of the loop.\n",
    "\n",
    "   Purpose:\n",
    "   - To skip the current iteration and continue with the next iteration of the loop.\n",
    "   - Useful when you want to avoid executing certain code under certain conditions.\n",
    "\n",
    "\n",
    "2. break Statement:\n",
    "\n",
    "   The `break` statement is used to exit a loop prematurely when a certain condition is met. It allows you to terminate the loop immediately, \n",
    "even if the loop's condition is not met, based on some specific condition inside the loop.\n",
    "\n",
    "   Purpose:\n",
    "   - To exit the loop prematurely based on a condition.\n",
    "   - Useful when you want to stop iterating through the loop when a specific condition is satisfied.\n",
    "\n",
    "In summary, the \"continue\" statement is used to skip the current iteration and continue with the next iteration of a loop, \n",
    "while the \"break\" statement is used to exit the loop prematurely based on a specific condition. These statements provide control over the \n",
    "flow of your program within loops, allowing you to handle different scenarios and conditions more effectively."
   ]
  },
  {
   "cell_type": "code",
   "execution_count": null,
   "id": "70961d06-f4f1-49ea-a8aa-b065449e6d7a",
   "metadata": {},
   "outputs": [],
   "source": [
    "22.Create a Python program that calculates the BMI (Body Mass Index) of a person based on their\n",
    "weight and height using if-else."
   ]
  },
  {
   "cell_type": "code",
   "execution_count": 6,
   "id": "adc6475c-d21e-4f26-bec6-606760a263a9",
   "metadata": {},
   "outputs": [
    {
     "name": "stdin",
     "output_type": "stream",
     "text": [
      "enter your weight in kg's 59\n",
      "enter your height in meters 155\n"
     ]
    },
    {
     "name": "stdout",
     "output_type": "stream",
     "text": [
      "underweight\n"
     ]
    }
   ],
   "source": [
    "n=int(input(\"enter your weight in kg's\"))\n",
    "n2=float(input(\"enter your height in meters\"))\n",
    "bmi=(n/n2**2)\n",
    "if  bmi<18.5:\n",
    "    print(\"underweight\")\n",
    "elif bmi>=18.5 and bmi<=24.9:\n",
    "    print(\"normal weight\")\n",
    "elif bmi>=25 and bmi<=29.9:\n",
    "    print(\"overweight\")\n",
    "elif bmi>=30 and bmi<=34.9:\n",
    "    print(\"obesity class 1\")\n",
    "elif bmi>=35 and bmi<=39.9:\n",
    "    print(\"obesity class2\")\n",
    "elif bmi >=40:\n",
    "    print(\"extreme obesity\")\n",
    "else:\n",
    "    print(\"enter correct details\")\n"
   ]
  },
  {
   "cell_type": "code",
   "execution_count": null,
   "id": "acc774cb-c23b-4def-a34f-d4c4d8640fbe",
   "metadata": {},
   "outputs": [],
   "source": [
    "23. How can you use the \"filter()\" function with if-else statements to filter elements from a list?"
   ]
  },
  {
   "cell_type": "code",
   "execution_count": null,
   "id": "64ae4487-c86a-40c9-8f00-60207d85432b",
   "metadata": {},
   "outputs": [],
   "source": [
    "The `filter()` function is used to filter elements from a sequence (e.g., a list) based on a specified function or condition. While you can use \n",
    "`filter()` in combination with a lambda function or a regular function to filter elements, it doesn't inherently involve if-else statements within the `filter()` function itself. Instead, you typically define a filtering condition using a function, which is applied to each element of the iterable.\n",
    "\n",
    "Here's how you can use the `filter()` function to filter elements from a list:\n",
    "\n",
    "\n",
    "\n",
    "numbers = [1, 2, 3, 4, 5, 6, 7, 8, 9, 10]\n",
    "\n",
    "# Define a filtering function using a lambda function\n",
    "filter_condition = lambda x: x % 2 == 0  # Filters even numbers\n",
    "\n",
    "# Use the filter() function to filter elements\n",
    "filtered_numbers = filter(filter_condition, numbers)\n",
    "\n",
    "# Convert the result to a list (if needed)\n",
    "filtered_numbers_list = list(filtered_numbers)\n",
    "\n",
    "# Print the filtered list\n",
    "print(filtered_numbers_list)\n",
    "\n",
    "\n",
    "In this example, we use a lambda function `filter_condition` to define the filtering condition, which checks if a number is even (`x % 2 == 0`). \n",
    "We then apply this condition to the list `numbers` using the `filter()` function. The `filter()` function returns an iterator, so we convert it \n",
    "to a list to see the filtered elements.\n",
    "\n",
    "You can change the `filter_condition` to filter elements based on different conditions.\n",
    "\n",
    "While you can't directly use if-else statements within the `filter()` function, you can define more complex filtering conditions using functions \n",
    "that involve if-else logic. These functions can be as simple or as complex as needed to filter elements based on your specific requirements."
   ]
  },
  {
   "cell_type": "code",
   "execution_count": null,
   "id": "8fe74466-f20d-45ae-aa28-028f1d66f57a",
   "metadata": {},
   "outputs": [],
   "source": [
    "24. Write a Python program to determine if a given number is prime or not using if-else.\n"
   ]
  },
  {
   "cell_type": "code",
   "execution_count": 77,
   "id": "99b37ce5-b054-4640-bba4-0308964110c2",
   "metadata": {},
   "outputs": [
    {
     "name": "stdin",
     "output_type": "stream",
     "text": [
      "Enter a number:  5\n"
     ]
    },
    {
     "name": "stdout",
     "output_type": "stream",
     "text": [
      "5 is a prime number.\n"
     ]
    }
   ],
   "source": [
    "\n",
    "number = int(input(\"Enter a number: \"))\n",
    "\n",
    "is_prime = True\n",
    "\n",
    "if number <= 1:\n",
    "    is_prime = False\n",
    "else:\n",
    "    for i in range(2, number):\n",
    "        if number % i == 0:\n",
    "            is_prime = False\n",
    "            break\n",
    "if is_prime:\n",
    "    print(f\"{number} is a prime number.\")\n",
    "else:\n",
    "    print(f\"{number} is not a prime number.\")\n"
   ]
  },
  {
   "cell_type": "code",
   "execution_count": null,
   "id": "63155cf0-30c1-438e-b7bf-2d5149bce890",
   "metadata": {},
   "outputs": [],
   "source": [
    "MAP"
   ]
  },
  {
   "cell_type": "code",
   "execution_count": null,
   "id": "7725aeaf-758b-436d-82da-53a0de0535d1",
   "metadata": {},
   "outputs": [],
   "source": [
    "1. Explain the purpose of the `map()` function in Python and provide an example of how it can be\n",
    "used to apply a function to each element of an iterable"
   ]
  },
  {
   "cell_type": "code",
   "execution_count": null,
   "id": "3872d975-f3d8-444f-a726-4e59cf15adf3",
   "metadata": {},
   "outputs": [],
   "source": [
    "The map() function in Python is a built-in function that is used to apply a specified function to all the items in an iterable \n",
    "(e.g., a list, tuple, or string) and returns an iterable map object (in Python 3) or a list (in Python 2). The purpose of map() is \n",
    "to efficiently perform the same operation on each element of the iterable without the need for explicit loops."
   ]
  },
  {
   "cell_type": "code",
   "execution_count": null,
   "id": "1e2cd74f-aef2-4293-9102-f9c36b42c67b",
   "metadata": {},
   "outputs": [],
   "source": [
    "2. Write a Python program that uses the `map()` function to square each element of a list of\n",
    "numbers."
   ]
  },
  {
   "cell_type": "code",
   "execution_count": 2,
   "id": "f07a1074-004d-4e57-a57b-0e735c173c84",
   "metadata": {},
   "outputs": [
    {
     "data": {
      "text/plain": [
       "[1, 4, 9, 16]"
      ]
     },
     "execution_count": 2,
     "metadata": {},
     "output_type": "execute_result"
    }
   ],
   "source": [
    "l=[1,2,3,4]\n",
    "list(map(lambda c:c*c,l))"
   ]
  },
  {
   "cell_type": "code",
   "execution_count": null,
   "id": "9b949490-0095-4ed5-8ee7-0fd8189ae4ce",
   "metadata": {},
   "outputs": [],
   "source": [
    "3. How does the `map()` function differ from a list comprehension in Python, and when would you\n",
    "choose one over the other?\n"
   ]
  },
  {
   "cell_type": "code",
   "execution_count": null,
   "id": "8366896e-ed21-4df9-9180-3c546295f3aa",
   "metadata": {},
   "outputs": [],
   "source": [
    "-map() Function:\n",
    "\n",
    "Syntax: map(function, iterable)\n",
    "Returns an iterable map object (convertible to a list).\n",
    "Suitable for applying an existing function to each element of an iterable.\n",
    "\n",
    "-List Comprehension:\n",
    "\n",
    "Syntax: [expression for element in iterable]\n",
    "Creates a new list with a concise and expressive syntax.\n",
    "Preferred for simple operations and considered more Pythonic.\n",
    "Choosing One Over the Other:\n",
    "\n",
    "Use map() when dealing with an existing function and the operation is more complex.\n",
    "Use list comprehension for concise and readable transformations, especially for simple operations."
   ]
  },
  {
   "cell_type": "code",
   "execution_count": null,
   "id": "b7e72d72-3e00-49eb-872d-c7ecd5ab4e96",
   "metadata": {},
   "outputs": [],
   "source": [
    "4. Create a Python program that uses the `map()` function to convert a list of names to uppercase.\n"
   ]
  },
  {
   "cell_type": "code",
   "execution_count": 21,
   "id": "c13b1861-0a31-45af-8eb5-a6b271b78623",
   "metadata": {},
   "outputs": [
    {
     "data": {
      "text/plain": [
       "['VAMSHI', 'KRISHNA', 'EAH']"
      ]
     },
     "execution_count": 21,
     "metadata": {},
     "output_type": "execute_result"
    }
   ],
   "source": [
    "l = [\"vamshi\", \"krishna\",\"eah\"]\n",
    "list(map(lambda c:c.upper(),l))"
   ]
  },
  {
   "cell_type": "code",
   "execution_count": null,
   "id": "f50b1808-7262-4f15-82d2-6bc3e2d7d7c4",
   "metadata": {},
   "outputs": [],
   "source": [
    "5. Write a Python program that uses the `map()` function to calculate the length of each word in a\n",
    "list of strings"
   ]
  },
  {
   "cell_type": "code",
   "execution_count": 22,
   "id": "03a59df7-f7a5-42b9-92fa-0f6823498576",
   "metadata": {},
   "outputs": [
    {
     "data": {
      "text/plain": [
       "[6, 7, 3]"
      ]
     },
     "execution_count": 22,
     "metadata": {},
     "output_type": "execute_result"
    }
   ],
   "source": [
    "l = [\"vamshi\", \"krishna\",\"eah\"]\n",
    "list(map(lambda c:len(c),l))"
   ]
  },
  {
   "cell_type": "code",
   "execution_count": null,
   "id": "f16f829b-9323-4cb2-9dc9-77385d8a4799",
   "metadata": {},
   "outputs": [],
   "source": [
    "6. How can you use the `map()` function to apply a custom function to elements of multiple lists\n",
    "simultaneously in Python?"
   ]
  },
  {
   "cell_type": "code",
   "execution_count": null,
   "id": "a1d3c2a8-599c-4e0d-bb05-8932da359751",
   "metadata": {},
   "outputs": [],
   "source": [
    "To use the map() function to apply a custom function to elements of multiple lists simultaneously, you can pass multiple iterable arguments to map(). \n",
    "The function you provide to map() should take as many arguments as there are iterable arguments."
   ]
  },
  {
   "cell_type": "code",
   "execution_count": null,
   "id": "293418e0-ce3a-4085-9764-60cd67e29b10",
   "metadata": {},
   "outputs": [],
   "source": [
    "7.Create a Python program that uses `map()` to convert a list of temperatures from Celsius to\n",
    "Fahrenheit"
   ]
  },
  {
   "cell_type": "code",
   "execution_count": 58,
   "id": "a3580307-5ce5-431b-9bb1-4eee341ebde9",
   "metadata": {},
   "outputs": [
    {
     "name": "stdout",
     "output_type": "stream",
     "text": [
      "[53.6, 37.4, 39.2]\n"
     ]
    }
   ],
   "source": [
    "#using function\n",
    "def mad(celsius):\n",
    "    fahrenheit = (celsius * 9/5) + 32\n",
    "    return fahrenheit\n",
    "celsius=[12,3,4]\n",
    "fahr=list(map(mad,celsius))\n",
    "print(fahr)"
   ]
  },
  {
   "cell_type": "code",
   "execution_count": 57,
   "id": "3c619544-c42b-4bb4-93c3-1880102d32ae",
   "metadata": {},
   "outputs": [
    {
     "data": {
      "text/plain": [
       "[53.6, 37.4, 39.2]"
      ]
     },
     "execution_count": 57,
     "metadata": {},
     "output_type": "execute_result"
    }
   ],
   "source": [
    "#using lambda\n",
    "celsius=[12,3,4]\n",
    "list(map(lambda c:(c* 9/5) + 32,celsius))"
   ]
  },
  {
   "cell_type": "code",
   "execution_count": null,
   "id": "23b45258-2f78-4932-ae4f-16824570326b",
   "metadata": {},
   "outputs": [],
   "source": [
    "8. Write a Python program that uses the `map()` function to round each element of a list of\n",
    "floating-point numbers to the nearest integer.\n"
   ]
  },
  {
   "cell_type": "code",
   "execution_count": 33,
   "id": "d0cd1e2c-6f27-47d2-83f2-1f395d4cf8ae",
   "metadata": {},
   "outputs": [
    {
     "data": {
      "text/plain": [
       "[2, 2, 3]"
      ]
     },
     "execution_count": 33,
     "metadata": {},
     "output_type": "execute_result"
    }
   ],
   "source": [
    "l=[2.3,2.5,3.4]\n",
    "list(map(lambda c:round(c),l))"
   ]
  },
  {
   "cell_type": "code",
   "execution_count": null,
   "id": "1941ba1f-c032-4895-8bbf-2a6c00d07f2d",
   "metadata": {},
   "outputs": [],
   "source": []
  },
  {
   "cell_type": "code",
   "execution_count": null,
   "id": "29edc10a-e8e4-46af-83eb-b3763669608d",
   "metadata": {},
   "outputs": [],
   "source": [
    "REDUCE"
   ]
  },
  {
   "cell_type": "code",
   "execution_count": null,
   "id": "868f51eb-2fef-46e4-ad34-9c9e965a959f",
   "metadata": {},
   "outputs": [],
   "source": [
    "1. What is the `reduce()` function in Python, and what module should you import to use it? Provide\n",
    "an example of its basic usage.\n"
   ]
  },
  {
   "cell_type": "code",
   "execution_count": null,
   "id": "f78d4592-7353-4e0c-9ced-c529416da642",
   "metadata": {},
   "outputs": [],
   "source": [
    "reduce----trying to collapse list and it keeps on collapse it umtill unless exhaust the entire list(used where looking for final one single result)\n",
    "from functools import reduce."
   ]
  },
  {
   "cell_type": "code",
   "execution_count": 5,
   "id": "7c56f5c3-b40f-4a5c-a7e0-aa1307702683",
   "metadata": {},
   "outputs": [
    {
     "data": {
      "text/plain": [
       "24"
      ]
     },
     "execution_count": 5,
     "metadata": {},
     "output_type": "execute_result"
    }
   ],
   "source": [
    "#EXAMPLE\n",
    "from functools import reduce\n",
    "l=[1,2,3,4]\n",
    "reduce(lambda a,b:a*b,l)"
   ]
  },
  {
   "cell_type": "code",
   "execution_count": null,
   "id": "0c51eccc-2416-4df4-8e5e-32dbdadcaa9e",
   "metadata": {},
   "outputs": [],
   "source": [
    "2. Write a Python program that uses the `reduce()` function to find the product of all elements in a\n",
    "list."
   ]
  },
  {
   "cell_type": "code",
   "execution_count": 6,
   "id": "4ccbe5b4-6c96-4f64-b427-f390308e5a1b",
   "metadata": {},
   "outputs": [
    {
     "data": {
      "text/plain": [
       "24"
      ]
     },
     "execution_count": 6,
     "metadata": {},
     "output_type": "execute_result"
    }
   ],
   "source": [
    "from functools import reduce\n",
    "l=[1,2,3,4]\n",
    "reduce(lambda a,b:a*b,l)"
   ]
  },
  {
   "cell_type": "code",
   "execution_count": null,
   "id": "3ff5168c-00ea-4d78-966d-00ba9c4cba85",
   "metadata": {},
   "outputs": [],
   "source": [
    "3. Create a Python program that uses `reduce()` to find the maximum element in a list of numbers."
   ]
  },
  {
   "cell_type": "code",
   "execution_count": 13,
   "id": "42034ba9-f248-4c36-b344-b4855346902e",
   "metadata": {},
   "outputs": [
    {
     "data": {
      "text/plain": [
       "4"
      ]
     },
     "execution_count": 13,
     "metadata": {},
     "output_type": "execute_result"
    }
   ],
   "source": [
    "from functools import reduce\n",
    "l=[1,2,3,4]\n",
    "reduce(lambda a,b:a if a>b else b,l)"
   ]
  },
  {
   "cell_type": "code",
   "execution_count": null,
   "id": "869a871e-5d24-40e5-a4b6-c75bc23a2ab5",
   "metadata": {},
   "outputs": [],
   "source": [
    "4. How can you use the `reduce()` function to concatenate a list of strings into a single string?\n"
   ]
  },
  {
   "cell_type": "code",
   "execution_count": 18,
   "id": "d19527ec-9675-471f-a6a3-6c1550e41297",
   "metadata": {},
   "outputs": [
    {
     "data": {
      "text/plain": [
       "'vamshikrishnabodige'"
      ]
     },
     "execution_count": 18,
     "metadata": {},
     "output_type": "execute_result"
    }
   ],
   "source": [
    "l=[\"vamshi\",\"krishna\",\"bodige\"]\n",
    "from functools import reduce\n",
    "reduce(lambda a,b:a+b ,l)"
   ]
  },
  {
   "cell_type": "code",
   "execution_count": null,
   "id": "77fc27e5-2928-4a63-acfb-04e921893325",
   "metadata": {},
   "outputs": [],
   "source": [
    "5. Write a Python program that calculates the factorial of a number using the `reduce()` function."
   ]
  },
  {
   "cell_type": "code",
   "execution_count": 25,
   "id": "57b55fbd-5d41-4817-a8b7-c18e48c33697",
   "metadata": {},
   "outputs": [
    {
     "name": "stdin",
     "output_type": "stream",
     "text": [
      "enter a number 5\n"
     ]
    },
    {
     "data": {
      "text/plain": [
       "120"
      ]
     },
     "execution_count": 25,
     "metadata": {},
     "output_type": "execute_result"
    }
   ],
   "source": [
    "a=int(input(\"enter a number\"))\n",
    "from functools import reduce\n",
    "reduce(lambda x,y:x*y,range(1,a+1))"
   ]
  },
  {
   "cell_type": "code",
   "execution_count": null,
   "id": "f21d2c37-9095-4e18-b11a-6b9ad5500ac7",
   "metadata": {},
   "outputs": [],
   "source": [
    "6. Create a Python program that uses `reduce()` to find the GCD (Greatest Common Divisor) of a list\n",
    "of numbers.\n"
   ]
  },
  {
   "cell_type": "code",
   "execution_count": 16,
   "id": "66fe7131-bec9-4c12-b59d-cfac27a4b3f0",
   "metadata": {},
   "outputs": [
    {
     "name": "stdout",
     "output_type": "stream",
     "text": [
      "The GCD of the numbers is 2\n"
     ]
    }
   ],
   "source": [
    "from functools import reduce\n",
    "\n",
    "numbers = [2, 4, 6, 34]\n",
    "\n",
    "def calculate_gcd(x, y):\n",
    "    while y:\n",
    "        x, y = y, x % y\n",
    "    return x\n",
    "gcd = reduce(calculate_gcd, numbers)\n",
    "print(f\"The GCD of the numbers is {gcd}\")\n"
   ]
  },
  {
   "cell_type": "code",
   "execution_count": null,
   "id": "341f62dd-3847-4633-b272-9e62ad847e2b",
   "metadata": {},
   "outputs": [],
   "source": [
    "7. Write a Python program that uses the `reduce()` function to find the sum of the digits of a given\n",
    "number.\n"
   ]
  },
  {
   "cell_type": "code",
   "execution_count": 39,
   "id": "0eb48bf8-4e1a-42b3-8bff-58debdf072f5",
   "metadata": {},
   "outputs": [],
   "source": [
    "#using function\n",
    "def summ(n):\n",
    "    a=str(n)\n",
    "    sum_of_digits=0\n",
    "    for i in a:\n",
    "        b=int(i)\n",
    "        sum_of_digits=sum_of_digits+b\n",
    "    print(sum_of_digits)\n",
    "        "
   ]
  },
  {
   "cell_type": "code",
   "execution_count": 31,
   "id": "c227a674-8a23-4f51-8426-9ca2924a46f0",
   "metadata": {},
   "outputs": [
    {
     "name": "stdout",
     "output_type": "stream",
     "text": [
      "6\n"
     ]
    }
   ],
   "source": [
    "summ(123)"
   ]
  },
  {
   "cell_type": "code",
   "execution_count": 40,
   "id": "5c075f8a-2752-45ad-8973-2f752af1028a",
   "metadata": {},
   "outputs": [
    {
     "name": "stdin",
     "output_type": "stream",
     "text": [
      "Enter a number:  123\n"
     ]
    },
    {
     "name": "stdout",
     "output_type": "stream",
     "text": [
      "The sum of the digits is: 6\n"
     ]
    }
   ],
   "source": [
    "#using lambda and reduce\n",
    "from functools import reduce\n",
    "num = int(input(\"Enter a number: \"))\n",
    "\n",
    "num_str = str(num)\n",
    "\n",
    "add_digits = lambda x, y: int(x) + int(y)\n",
    "\n",
    "sum_of_digits = reduce(add_digits, num_str)\n",
    "\n",
    "print(f\"The sum of the digits is: {sum_of_digits}\")\n"
   ]
  },
  {
   "cell_type": "code",
   "execution_count": 41,
   "id": "b27a1a75-b073-47fe-b16d-fb4a0336e05d",
   "metadata": {},
   "outputs": [
    {
     "name": "stdin",
     "output_type": "stream",
     "text": [
      "enter num 123\n"
     ]
    },
    {
     "data": {
      "text/plain": [
       "6"
      ]
     },
     "execution_count": 41,
     "metadata": {},
     "output_type": "execute_result"
    }
   ],
   "source": [
    "#using function and reduce\n",
    "from functools import reduce\n",
    "num=int(input(\"enter num\"))\n",
    "num_str=str(num)\n",
    "def summ(x,y):\n",
    "    b=int(x)+int(y)\n",
    "    return b\n",
    "reduce(summ, num_str)\n",
    "\n",
    "        "
   ]
  },
  {
   "cell_type": "code",
   "execution_count": null,
   "id": "1c0130ae-b2b8-4a9d-898b-6a3bdc687199",
   "metadata": {},
   "outputs": [],
   "source": [
    "Filter"
   ]
  },
  {
   "cell_type": "code",
   "execution_count": null,
   "id": "0b1cd9cc-62fb-4c97-8aeb-62ecb29b7bfd",
   "metadata": {},
   "outputs": [],
   "source": [
    "1. Explain the purpose of the `filter()` function in Python and provide an example of how it can be\n",
    "used to filter elements from an iterable."
   ]
  },
  {
   "cell_type": "code",
   "execution_count": null,
   "id": "8b0b69da-43a1-4f25-a7f7-9371c4fa3854",
   "metadata": {},
   "outputs": [],
   "source": [
    "The filter() function in Python is a built-in function used to filter elements from an iterable based on a specified function \n",
    "(or None, which is the default). It creates an iterator from elements of the iterable for which the given function returns True. \n",
    "In other words, it allows you to selectively include or exclude elements from the original iterable."
   ]
  },
  {
   "cell_type": "code",
   "execution_count": null,
   "id": "7da68b23-8349-49be-801b-aad041ff98e2",
   "metadata": {},
   "outputs": [],
   "source": [
    "2. Write a Python program that uses the `filter()` function to select even numbers from a list of\n",
    "integers."
   ]
  },
  {
   "cell_type": "code",
   "execution_count": 15,
   "id": "6faa6f00-352e-4240-9014-80a34ff08d06",
   "metadata": {},
   "outputs": [
    {
     "data": {
      "text/plain": [
       "[2, 4, 6]"
      ]
     },
     "execution_count": 15,
     "metadata": {},
     "output_type": "execute_result"
    }
   ],
   "source": [
    "l=[1,2,3,4,5,6]\n",
    "l2=[]\n",
    "list(filter(lambda a:l2.append(a) if a%2==0 else l,l))\n",
    "l2"
   ]
  },
  {
   "cell_type": "code",
   "execution_count": null,
   "id": "b8df2829-3cb3-423c-b272-f738d7d354d1",
   "metadata": {},
   "outputs": [],
   "source": [
    "3. Create a Python program that uses the `filter()` function to select names that start with a specific\n",
    "letter from a list of strings."
   ]
  },
  {
   "cell_type": "code",
   "execution_count": 21,
   "id": "c09019d0-2811-4280-8d6d-538eca10fcbd",
   "metadata": {},
   "outputs": [
    {
     "data": {
      "text/plain": [
       "['abc', 'axz']"
      ]
     },
     "execution_count": 21,
     "metadata": {},
     "output_type": "execute_result"
    }
   ],
   "source": [
    "l=[\"abc\",\"bcd\",\"axz\",\"vbx\"]\n",
    "l2=[]\n",
    "list(filter(lambda a:l2.append(a) if a[0]==\"a\" else l,l))\n",
    "l2"
   ]
  },
  {
   "cell_type": "code",
   "execution_count": null,
   "id": "17777a20-c378-4cd2-a501-6069a4eebc37",
   "metadata": {},
   "outputs": [],
   "source": [
    "4. Write a Python program that uses the `filter()` function to select prime numbers from a list of\n",
    "integers."
   ]
  },
  {
   "cell_type": "code",
   "execution_count": 79,
   "id": "1376b910-8302-4238-8a23-c62fa179b7a8",
   "metadata": {},
   "outputs": [],
   "source": [
    "\n",
    "l2=[]\n",
    "def filt(n):\n",
    "    is_prime=True\n",
    "    for i in range(2,n):\n",
    "        if n%i==0:\n",
    "            is_prime=False\n",
    "            l2.append(i)\n",
    "    return is_prime\n",
    "            "
   ]
  },
  {
   "cell_type": "code",
   "execution_count": 80,
   "id": "6dabf159-e451-44d5-9b98-81c51ffab910",
   "metadata": {},
   "outputs": [
    {
     "data": {
      "text/plain": [
       "[1, 2, 3, 5, 7]"
      ]
     },
     "execution_count": 80,
     "metadata": {},
     "output_type": "execute_result"
    }
   ],
   "source": [
    "l=[1,2,3,4,5,6,7]\n",
    "list(filter(filt,l))"
   ]
  },
  {
   "cell_type": "code",
   "execution_count": null,
   "id": "74cb28f5-8625-4047-a1b9-d7739c171983",
   "metadata": {},
   "outputs": [],
   "source": [
    "5. How can you use the `filter()` function to remove None values from a list in Python?\n"
   ]
  },
  {
   "cell_type": "code",
   "execution_count": 99,
   "id": "1db198b2-67fb-4102-998c-f0ea5d3bbedf",
   "metadata": {},
   "outputs": [
    {
     "data": {
      "text/plain": [
       "[1, 2, 4, 5]"
      ]
     },
     "execution_count": 99,
     "metadata": {},
     "output_type": "execute_result"
    }
   ],
   "source": [
    "l=[1,2,None,4,5,None]\n",
    "list(filter(lambda a:a is not None,l))\n"
   ]
  },
  {
   "cell_type": "code",
   "execution_count": null,
   "id": "eb4e6b1d-ffc0-4d7b-b30b-5b9b3c2a6862",
   "metadata": {},
   "outputs": [],
   "source": [
    "6. Create a Python program that uses `filter()` to select words longer than a certain length from a\n",
    "list of strings."
   ]
  },
  {
   "cell_type": "code",
   "execution_count": 108,
   "id": "e96b382f-f167-497e-9ecb-4e3a7c08f09f",
   "metadata": {},
   "outputs": [
    {
     "data": {
      "text/plain": [
       "['vamshi']"
      ]
     },
     "execution_count": 108,
     "metadata": {},
     "output_type": "execute_result"
    }
   ],
   "source": [
    "l=[\"vamshi\",\"krishna\"]\n",
    "l2=[]\n",
    "list(filter(lambda x:l if len(x)==6 else l2,l)) "
   ]
  },
  {
   "cell_type": "code",
   "execution_count": null,
   "id": "6c2f2354-e7f7-46fc-b725-99ab6b159fd4",
   "metadata": {},
   "outputs": [],
   "source": [
    "7. Write a Python program that uses the `filter()` function to select elements greater than a\n",
    "specified threshold from a list of values."
   ]
  },
  {
   "cell_type": "code",
   "execution_count": 107,
   "id": "4731cd84-425e-4327-bb8a-fe2837870605",
   "metadata": {},
   "outputs": [
    {
     "data": {
      "text/plain": [
       "[6, 7, 8, 9]"
      ]
     },
     "execution_count": 107,
     "metadata": {},
     "output_type": "execute_result"
    }
   ],
   "source": [
    "l=[1,2,3,4,5,6,7,8,9]\n",
    "l2=[]\n",
    "threshhold=5\n",
    "list(filter(lambda a:l if a>threshhold else l2,l)) "
   ]
  },
  {
   "cell_type": "code",
   "execution_count": null,
   "id": "282a8161-62a6-4b08-ac66-b6c1f5ef71f3",
   "metadata": {},
   "outputs": [],
   "source": []
  },
  {
   "cell_type": "code",
   "execution_count": null,
   "id": "fe3cd865-96a9-40c0-809b-eae6c184a081",
   "metadata": {},
   "outputs": [],
   "source": [
    "RECURSION"
   ]
  },
  {
   "cell_type": "code",
   "execution_count": null,
   "id": "df8db409-4ac6-47ed-b058-73fdae0a1c15",
   "metadata": {},
   "outputs": [],
   "source": [
    "1. Explain the concept of recursion in Python. How does it differ from iteration?"
   ]
  },
  {
   "cell_type": "code",
   "execution_count": null,
   "id": "67f20209-9925-4cd3-9757-b73ada13a86c",
   "metadata": {},
   "outputs": [],
   "source": [
    "Recursion in Python is a programming concept where a function calls itself to solve a problem by breaking it into smaller sub-problems. \n",
    "It often leads to concise code. Iteration, on the other hand, involves using loops to repeatedly execute a block of code until a condition is met. \n",
    "Recursion may have higher memory overhead, while iteration is often more memory-efficient and explicit. The choice between them depends on the problem \n",
    "and specific implementation requirements."
   ]
  },
  {
   "cell_type": "code",
   "execution_count": null,
   "id": "fc2fcf80-3bb7-4b5b-b864-bafcbaa3c414",
   "metadata": {},
   "outputs": [],
   "source": [
    "2. Write a Python program to calculate the factorial of a number using recursion."
   ]
  },
  {
   "cell_type": "code",
   "execution_count": 64,
   "id": "167e6492-ff35-4669-9ebd-da61a96c2b42",
   "metadata": {},
   "outputs": [
    {
     "data": {
      "text/plain": [
       "6"
      ]
     },
     "execution_count": 64,
     "metadata": {},
     "output_type": "execute_result"
    }
   ],
   "source": [
    "def fact(n):\n",
    "    if n==0:\n",
    "        return 1\n",
    "    else:\n",
    "        return n*fact(n-1)\n",
    "fact(3)"
   ]
  },
  {
   "cell_type": "code",
   "execution_count": null,
   "id": "f0634007-a8b3-4bf6-9158-2be3a9a2ae51",
   "metadata": {},
   "outputs": [],
   "source": [
    "3. Create a recursive Python function to find the nth Fibonacci number.\n"
   ]
  },
  {
   "cell_type": "code",
   "execution_count": 2,
   "id": "1e8f8b32-6484-4b23-8505-8cde49861d8a",
   "metadata": {},
   "outputs": [
    {
     "data": {
      "text/plain": [
       "2"
      ]
     },
     "execution_count": 2,
     "metadata": {},
     "output_type": "execute_result"
    }
   ],
   "source": [
    "def fibonacci(n):\n",
    "    if n <= 0:\n",
    "        return 0\n",
    "    elif n == 1:\n",
    "        return 1\n",
    "    else:\n",
    "        return fibonacci(n - 1) + fibonacci(n - 2)\n",
    "fibonacci(3)"
   ]
  },
  {
   "cell_type": "code",
   "execution_count": null,
   "id": "0b56d7c4-fe3a-41ab-bd70-405d55bd02a1",
   "metadata": {},
   "outputs": [],
   "source": [
    "4. Write a recursive Python function to calculate the sum of all elements in a list.\n"
   ]
  },
  {
   "cell_type": "code",
   "execution_count": 141,
   "id": "2473a0c6-e4df-46cb-9101-37d7b6ac020b",
   "metadata": {},
   "outputs": [],
   "source": [
    "\n",
    "def summ(a):\n",
    "    if a==[]:\n",
    "        return 0\n",
    "    else:\n",
    "        return a[0]+summ(a[1:])\n",
    "        "
   ]
  },
  {
   "cell_type": "code",
   "execution_count": 142,
   "id": "fef58f48-e7eb-4370-8683-de4dc9ebc628",
   "metadata": {},
   "outputs": [
    {
     "data": {
      "text/plain": [
       "15"
      ]
     },
     "execution_count": 142,
     "metadata": {},
     "output_type": "execute_result"
    }
   ],
   "source": [
    "l=[1,2,3,4,5]\n",
    "summ(l)"
   ]
  },
  {
   "cell_type": "code",
   "execution_count": null,
   "id": "419929a7-084c-4698-8ac2-a3e53ce418db",
   "metadata": {},
   "outputs": [],
   "source": [
    "5. How can you prevent a recursive function from running indefinitely, causing a stack overflow\n",
    "error?"
   ]
  },
  {
   "cell_type": "code",
   "execution_count": null,
   "id": "8bb43f43-c7b0-436a-9565-912731b14bec",
   "metadata": {},
   "outputs": [],
   "source": [
    "To prevent a recursive function from running indefinitely and causing a stack overflow error:\n",
    "\n",
    "1. Base Case:\n",
    "   - Include a base case in the recursive function, defining when to stop recursion.\n",
    "   - Ensure the base case handles the simplest input or smallest instance of the problem.\n",
    "\n",
    "2. Progress Toward Base Case:\n",
    "   - Ensure each recursive call moves closer to the base case.\n",
    "   - If not, the function may run indefinitely.\n",
    "\n",
    "3. Correct Termination Conditions:\n",
    "   - Double-check and verify that termination conditions are correct and cover all scenarios.\n",
    "\n",
    "By implementing these measures, you ensure that the recursive function stops appropriately, preventing stack overflow errors."
   ]
  },
  {
   "cell_type": "code",
   "execution_count": null,
   "id": "a8a44d0d-3762-4d75-b7ff-94bd0d0d428a",
   "metadata": {},
   "outputs": [],
   "source": [
    "6. Create a recursive Python function to find the greatest common divisor (GCD) of two numbers\n",
    "using the Euclidean algorithm.\n"
   ]
  },
  {
   "cell_type": "code",
   "execution_count": 5,
   "id": "fd2b602d-d162-477a-8b67-1fd3748a7b9a",
   "metadata": {},
   "outputs": [
    {
     "data": {
      "text/plain": [
       "2"
      ]
     },
     "execution_count": 5,
     "metadata": {},
     "output_type": "execute_result"
    }
   ],
   "source": [
    "def gcd(a,b):\n",
    "    if b==0:\n",
    "        return a\n",
    "    else:\n",
    "        return gcd(b,a%b)\n",
    "gcd(4,6)"
   ]
  },
  {
   "cell_type": "code",
   "execution_count": null,
   "id": "b9f7a491-eb5a-4ed9-bc48-bab417343281",
   "metadata": {},
   "outputs": [],
   "source": [
    "7. Write a recursive Python function to reverse a string.\n"
   ]
  },
  {
   "cell_type": "code",
   "execution_count": 11,
   "id": "87db6647-02bc-49e9-9a5b-07764358c3b6",
   "metadata": {},
   "outputs": [],
   "source": [
    "def s_reverse(a):\n",
    "    if a==\"\":\n",
    "        return \"\"\n",
    "    else:\n",
    "        return s_reverse(a[1:]) + a[0]"
   ]
  },
  {
   "cell_type": "code",
   "execution_count": 12,
   "id": "fb7c0a98-b584-4613-af4c-b6c7eb7f8b21",
   "metadata": {},
   "outputs": [
    {
     "data": {
      "text/plain": [
       "'ihsmav'"
      ]
     },
     "execution_count": 12,
     "metadata": {},
     "output_type": "execute_result"
    }
   ],
   "source": [
    "s_reverse(\"vamshi\")"
   ]
  },
  {
   "cell_type": "code",
   "execution_count": null,
   "id": "2ad8fbab-a7c1-49dc-9b1f-d2698b891670",
   "metadata": {},
   "outputs": [],
   "source": [
    "8. Create a recursive Python function to calculate the power of a number (x^n).\n"
   ]
  },
  {
   "cell_type": "code",
   "execution_count": 30,
   "id": "44f80d64-c041-44c5-a136-c1e402a04c77",
   "metadata": {},
   "outputs": [],
   "source": [
    "def power(a,b):\n",
    "    if b==1:\n",
    "        return a\n",
    "    elif b==0:\n",
    "        return 1\n",
    "    else:\n",
    "        return a * power(a, b - 1)"
   ]
  },
  {
   "cell_type": "code",
   "execution_count": 35,
   "id": "791baebb-8768-468b-ad9c-4dec20baad15",
   "metadata": {},
   "outputs": [
    {
     "data": {
      "text/plain": [
       "27"
      ]
     },
     "execution_count": 35,
     "metadata": {},
     "output_type": "execute_result"
    }
   ],
   "source": [
    "power(3,3)"
   ]
  },
  {
   "cell_type": "code",
   "execution_count": null,
   "id": "f7e43657-2a61-4cfc-b40f-970b20a14c4c",
   "metadata": {},
   "outputs": [],
   "source": [
    "9. Write a recursive Python function to find all permutations of a given string.\n"
   ]
  },
  {
   "cell_type": "code",
   "execution_count": 7,
   "id": "c33bed62-fa4f-41ea-a1bd-43cf44cdf824",
   "metadata": {},
   "outputs": [
    {
     "name": "stdout",
     "output_type": "stream",
     "text": [
      "['abc', 'acb', 'bac', 'bca', 'cab', 'cba']\n"
     ]
    }
   ],
   "source": [
    "def get_permutations(s):\n",
    "    if len(s) == 1:\n",
    "        return [s]\n",
    "\n",
    "    result = []\n",
    "    for i, char in enumerate(s):\n",
    "        # Exclude the current character and find permutations of the remaining characters\n",
    "        rest_of_string = s[:i] + s[i + 1:]\n",
    "        permutations_of_rest = get_permutations(rest_of_string)\n",
    "\n",
    "        # Add the current character to each permutation of the remaining characters\n",
    "        for perm in permutations_of_rest:\n",
    "            result.append(char + perm)\n",
    "\n",
    "    return result\n",
    "\n",
    "\n",
    "input_string = \"abc\"\n",
    "permutations = get_permutations(input_string)\n",
    "print(permutations)\n"
   ]
  },
  {
   "cell_type": "code",
   "execution_count": null,
   "id": "093d790d-583a-435d-acce-33902faf8406",
   "metadata": {},
   "outputs": [],
   "source": [
    "10. Write a recursive Python function to check if a string is a palindrome.\n"
   ]
  },
  {
   "cell_type": "code",
   "execution_count": 53,
   "id": "cacc9e2f-84ea-4d14-b957-0f1bd6ab1f05",
   "metadata": {},
   "outputs": [],
   "source": [
    "def palin(s):\n",
    "    if len(s)<1:\n",
    "        return True\n",
    "    elif s[0]!=s[-1]:\n",
    "        return False\n",
    "    return palin(s[1:-1])"
   ]
  },
  {
   "cell_type": "code",
   "execution_count": 57,
   "id": "448c2d26-1ec3-4c51-b82b-e3dbed50ea82",
   "metadata": {},
   "outputs": [
    {
     "data": {
      "text/plain": [
       "True"
      ]
     },
     "execution_count": 57,
     "metadata": {},
     "output_type": "execute_result"
    }
   ],
   "source": [
    "palin(\"pop\")"
   ]
  },
  {
   "cell_type": "code",
   "execution_count": null,
   "id": "fb1471ad-31ec-4672-a8e1-cf52198d4392",
   "metadata": {},
   "outputs": [],
   "source": [
    "11. Create a recursive Python function to generate all possible combinations of a list of elements.\n"
   ]
  },
  {
   "cell_type": "code",
   "execution_count": 8,
   "id": "9bd4b680-11db-40c1-a7aa-da7c2dc53682",
   "metadata": {},
   "outputs": [
    {
     "name": "stdout",
     "output_type": "stream",
     "text": [
      "['abc', 'ab', 'ac', 'a', 'bc', 'b', 'c', '']\n"
     ]
    }
   ],
   "source": [
    "def get_combinations(word):\n",
    "    if not word:\n",
    "        return ['']  \n",
    "\n",
    "    current_char = word[0]\n",
    "    rest_of_word = word[1:]\n",
    "\n",
    "    # Recursive case: combine the current character with combinations of the rest\n",
    "    combinations_with_current = [current_char + combo for combo in get_combinations(rest_of_word)]\n",
    "\n",
    "    # Recursive case: exclude the current character and find combinations for the rest\n",
    "    combinations_without_current = get_combinations(rest_of_word)\n",
    "\n",
    "    return combinations_with_current + combinations_without_current\n",
    "\n",
    "\n",
    "input_word = \"abc\"\n",
    "combinations = get_combinations(input_word)\n",
    "print(combinations)\n"
   ]
  },
  {
   "cell_type": "code",
   "execution_count": null,
   "id": "d6c7277b-0834-48ed-b080-a734550b4246",
   "metadata": {},
   "outputs": [],
   "source": [
    "BASICS OF FUNCTIONS"
   ]
  },
  {
   "cell_type": "code",
   "execution_count": null,
   "id": "991b0bab-7d64-47d2-9c87-affbfb7c8049",
   "metadata": {},
   "outputs": [],
   "source": [
    "1. What is a function in Python, and why is it used?"
   ]
  },
  {
   "cell_type": "code",
   "execution_count": null,
   "id": "0098dd10-5eb1-47d8-b80d-838b22f48543",
   "metadata": {},
   "outputs": [],
   "source": [
    "In Python, a function is a reusable block of code defined with the `def` keyword. It takes input parameters, performs specific actions, and \n",
    "can return a result. Functions promote modularity, code reuse, abstraction, and better code organization. They are called using their name \n",
    "followed by parentheses."
   ]
  },
  {
   "cell_type": "code",
   "execution_count": null,
   "id": "291ba312-c377-45c3-a1bf-98f7aab11e7d",
   "metadata": {},
   "outputs": [],
   "source": [
    "2. How do you define a function in Python? Provide an example.\n"
   ]
  },
  {
   "cell_type": "code",
   "execution_count": null,
   "id": "3574fb9c-09d5-4f88-b941-9be719faf83b",
   "metadata": {},
   "outputs": [],
   "source": [
    "\n",
    "In Python, you define a function using the def keyword, followed by the function name, a pair of parentheses containing any parameters, \n",
    "and a colon. The function body is indented, and it typically contains the code to be executed when the function is called."
   ]
  },
  {
   "cell_type": "code",
   "execution_count": 11,
   "id": "5412b093-da4a-4701-957e-e9abca741714",
   "metadata": {},
   "outputs": [
    {
     "data": {
      "text/plain": [
       "3"
      ]
     },
     "execution_count": 11,
     "metadata": {},
     "output_type": "execute_result"
    }
   ],
   "source": [
    "def add_numbers(x, y):\n",
    "    result = x + y\n",
    "    return result\n",
    "add = add_numbers(1,2)\n",
    "add"
   ]
  },
  {
   "cell_type": "code",
   "execution_count": null,
   "id": "cc75112e-a35a-409e-af93-41e71313ac89",
   "metadata": {},
   "outputs": [],
   "source": [
    "3. Explain the difference between a function definition and a function call.\n"
   ]
  },
  {
   "cell_type": "code",
   "execution_count": null,
   "id": "5b789a38-6e6d-4626-8c17-2bd44d6b5592",
   "metadata": {},
   "outputs": [],
   "source": [
    "Function Definition:\n",
    "\n",
    "Creating a new function with a specified name, parameters, and code to be executed.\n",
    "Begins with def keyword, followed by function details and a colon.\n",
    "\n",
    "Function Call:\n",
    "\n",
    "Using a defined function to perform a task by providing specific arguments.\n",
    "Involves using the function name followed by parentheses with arguments."
   ]
  },
  {
   "cell_type": "code",
   "execution_count": null,
   "id": "b9cbf401-e487-4366-89f9-41fb4a105801",
   "metadata": {},
   "outputs": [],
   "source": [
    "4. Write a Python program that defines a function to calculate the sum of two numbers and then\n",
    "calls the function.\n"
   ]
  },
  {
   "cell_type": "code",
   "execution_count": 6,
   "id": "f053f2cf-a451-4816-b8e4-237e22c66ffe",
   "metadata": {},
   "outputs": [],
   "source": [
    "def sum(num1,num2):\n",
    "    b=num1 + num2\n",
    "    return b"
   ]
  },
  {
   "cell_type": "code",
   "execution_count": 8,
   "id": "58917b67-1e74-4ad9-8281-7eb8cfdcd234",
   "metadata": {},
   "outputs": [
    {
     "data": {
      "text/plain": [
       "10"
      ]
     },
     "execution_count": 8,
     "metadata": {},
     "output_type": "execute_result"
    }
   ],
   "source": [
    "sum(6,4)"
   ]
  },
  {
   "cell_type": "code",
   "execution_count": null,
   "id": "01b383c5-759e-4e63-897b-7905f4d99bc1",
   "metadata": {},
   "outputs": [],
   "source": [
    "5. What is a function signature, and what information does it typically include?\n"
   ]
  },
  {
   "cell_type": "code",
   "execution_count": null,
   "id": "336461ef-a717-4411-a223-3daf7a44a356",
   "metadata": {},
   "outputs": [],
   "source": [
    "A function signature is a concise representation of a function's essential information, providing a quick overview of its characteristics. \n",
    "It typically includes the following information:\n",
    "\n",
    "Function Name:\n",
    "\n",
    "The name by which the function is identified.\n",
    "For example, in the function definition def add_numbers(x, y):, \"add_numbers\" is the function name.\n",
    "Parameters:\n",
    "\n",
    "The input values or variables that the function expects.\n",
    "In the function definition def add_numbers(x, y):, the parameters are x and y.\n",
    "Return Type:\n",
    "\n",
    "The data type of the value that the function returns (if any).\n",
    "For example, if a function returns an integer, the return type is specified as int.\n",
    "Exceptions/Errors:\n",
    "\n",
    "Any exceptions or errors that the function may raise.\n",
    "Describes the exceptional situations the caller should be aware of.\n",
    "\n",
    "The function signature serves as documentation for both developers and tools, helping them understand how to use the function correctly and \n",
    "what to expect from it. It enhances code readability and promotes better understanding and collaboration in software development."
   ]
  },
  {
   "cell_type": "code",
   "execution_count": null,
   "id": "7b2e8c12-c513-46e1-a36a-3315abcf7c23",
   "metadata": {},
   "outputs": [],
   "source": [
    "6. Create a Python function that takes two arguments and returns their product.\n"
   ]
  },
  {
   "cell_type": "code",
   "execution_count": 9,
   "id": "e86fbe2b-439b-4fa1-9d3b-564495e69b5b",
   "metadata": {},
   "outputs": [
    {
     "data": {
      "text/plain": [
       "6"
      ]
     },
     "execution_count": 9,
     "metadata": {},
     "output_type": "execute_result"
    }
   ],
   "source": [
    "def sum(num1,num2):\n",
    "    b=num1 * num2\n",
    "    return b\n",
    "sum(2,3)"
   ]
  },
  {
   "cell_type": "code",
   "execution_count": null,
   "id": "8e390247-a1fc-4fa3-a13f-c32ad5488641",
   "metadata": {},
   "outputs": [],
   "source": [
    "Function Parameters and Arguments:\n"
   ]
  },
  {
   "cell_type": "code",
   "execution_count": null,
   "id": "a80c3145-aadd-4265-9378-859fe587140b",
   "metadata": {},
   "outputs": [],
   "source": [
    "1. Explain the concepts of formal parameters and actual arguments in Python functions.\n"
   ]
  },
  {
   "cell_type": "code",
   "execution_count": null,
   "id": "602e63bb-9300-4d36-81f5-e6b48d8514a4",
   "metadata": {},
   "outputs": [],
   "source": [
    "Formal Parameters:\n",
    "\n",
    "Variables specified in the function definition.\n",
    "Act as placeholders for values expected during function calls.\n",
    "Indicate the structure and interface of the function.\n",
    "\n",
    "Actual Arguments:\n",
    "\n",
    "Real values or expressions provided during function calls.\n",
    "Correspond to formal parameters and supply values to the function.\n",
    "Must match the order and number of formal parameters in the function call."
   ]
  },
  {
   "cell_type": "code",
   "execution_count": null,
   "id": "af185fe6-e9bf-43ec-ae42-43a9128ab9fc",
   "metadata": {},
   "outputs": [],
   "source": [
    "2. Write a Python program that defines a function with default argument values."
   ]
  },
  {
   "cell_type": "code",
   "execution_count": 11,
   "id": "f2797364-b448-4cc1-b122-66d41bea4491",
   "metadata": {},
   "outputs": [],
   "source": [
    "def sum(a=2,b=3):\n",
    "    c=a+b\n",
    "    return c\n"
   ]
  },
  {
   "cell_type": "code",
   "execution_count": 12,
   "id": "853ec621-d714-41b8-ab04-1b522103db13",
   "metadata": {},
   "outputs": [
    {
     "data": {
      "text/plain": [
       "5"
      ]
     },
     "execution_count": 12,
     "metadata": {},
     "output_type": "execute_result"
    }
   ],
   "source": [
    "sum()"
   ]
  },
  {
   "cell_type": "code",
   "execution_count": 13,
   "id": "17efd47c-8786-41ee-b324-23f5bcc9e6c5",
   "metadata": {},
   "outputs": [
    {
     "data": {
      "text/plain": [
       "9"
      ]
     },
     "execution_count": 13,
     "metadata": {},
     "output_type": "execute_result"
    }
   ],
   "source": [
    "sum(4,5)"
   ]
  },
  {
   "cell_type": "code",
   "execution_count": null,
   "id": "f4f5b163-7567-4ee5-b106-5a26ed6426de",
   "metadata": {},
   "outputs": [],
   "source": [
    "3. How do you use keyword arguments in Python function calls? Provide an example.\n"
   ]
  },
  {
   "cell_type": "code",
   "execution_count": null,
   "id": "723b6250-616d-40d0-964c-bf39630c3240",
   "metadata": {},
   "outputs": [],
   "source": [
    "In Python, you can use keyword arguments in function calls to specify arguments by their parameter names, rather than relying on the order of arguments. \n",
    "This can make your code more readable and maintainable, especially when you have functions with many parameters. \n",
    "To use keyword arguments, you simply provide the parameter name followed by a colon and the value."
   ]
  },
  {
   "cell_type": "code",
   "execution_count": 12,
   "id": "1dcf4c3f-29b1-4e38-a69c-ec0e3b44d0ed",
   "metadata": {},
   "outputs": [
    {
     "name": "stdout",
     "output_type": "stream",
     "text": [
      "Hello, vamshi! You are 50 years old and live in hyd.\n"
     ]
    }
   ],
   "source": [
    "def greet(name, age, city):\n",
    "    print(f\"Hello, {name}! You are {age} years old and live in {city}.\")\n",
    "greet(name=\"vamshi\",age=50,city=\"hyd\")"
   ]
  },
  {
   "cell_type": "code",
   "execution_count": null,
   "id": "2dab89e0-eb64-47fd-8111-1fd709c8f608",
   "metadata": {},
   "outputs": [],
   "source": [
    "4. Create a Python function that accepts a variable number of arguments and calculates their sum.\n"
   ]
  },
  {
   "cell_type": "code",
   "execution_count": 2,
   "id": "7358a7c5-38fc-4f94-a8de-03a6561a85f5",
   "metadata": {},
   "outputs": [],
   "source": [
    "def summ(*args):\n",
    "    sum_num=0\n",
    "    for i in args:\n",
    "        sum_num=sum_num+i\n",
    "    return sum_num"
   ]
  },
  {
   "cell_type": "code",
   "execution_count": 4,
   "id": "ceec3598-7a50-483c-8e1c-9ce76be75ee9",
   "metadata": {},
   "outputs": [
    {
     "name": "stdout",
     "output_type": "stream",
     "text": [
      "49\n"
     ]
    }
   ],
   "source": [
    "summ(1,2,3,43)"
   ]
  },
  {
   "cell_type": "code",
   "execution_count": null,
   "id": "3e19f8c5-0b97-41ae-b57b-82cf3090f473",
   "metadata": {},
   "outputs": [],
   "source": [
    "5. What is the purpose of the `*args` and `**kwargs` syntax in function parameter lists?\n"
   ]
  },
  {
   "cell_type": "code",
   "execution_count": null,
   "id": "cf022781-6e91-44aa-b30e-fef4ea619029",
   "metadata": {},
   "outputs": [],
   "source": [
    "\n",
    "In Python, *args and **kwargs are used in function parameter lists to allow functions to accept a variable number of arguments.\n",
    "\n",
    "1. *args (Arbitrary Positional Arguments):\n",
    "\n",
    "The *args syntax allows a function to accept any number of positional arguments.\n",
    "It collects additional positional arguments into a tuple.\n",
    "The term \"args\" is a convention, and you can use any name after the asterisk (*).\n",
    "\n",
    "2. **kwargs (Arbitrary Keyword Arguments):\n",
    "\n",
    "The **kwargs syntax allows a function to accept any number of keyword arguments.\n",
    "It collects additional keyword arguments into a dictionary.\n",
    "The term \"kwargs\" is a convention, and you can use any name after the double asterisks (**).\n",
    "\n",
    "These syntaxes are particularly useful when you want to create flexible functions that can handle varying numbers of arguments. \n",
    "The use of *args and **kwargs allows you to define functions without explicitly specifying the number of parameters, making them more adaptable and \n",
    "accommodating different use cases."
   ]
  },
  {
   "cell_type": "code",
   "execution_count": null,
   "id": "fe24df54-64c6-43a1-aaaf-58ccc4be55de",
   "metadata": {},
   "outputs": [],
   "source": [
    "Return Values and Scoping:\n"
   ]
  },
  {
   "cell_type": "code",
   "execution_count": null,
   "id": "d1e39fc4-3e2a-4c56-b537-f603884a9414",
   "metadata": {},
   "outputs": [],
   "source": [
    "1. Describe the role of the `return` statement in Python functions and provide examples.\n"
   ]
  },
  {
   "cell_type": "code",
   "execution_count": null,
   "id": "198ceef7-c67f-468b-9ad1-7a1a82018666",
   "metadata": {},
   "outputs": [],
   "source": [
    "The return statement in Python functions is used to exit the function and specify the value (if any) that the function should return to the caller. It serves the following key purposes:\n",
    "\n",
    "1. Exiting the Function:\n",
    "\n",
    "The return statement immediately terminates the execution of a function, and control is transferred back to the calling code.\n",
    "Once a return statement is encountered, the function execution stops, and any subsequent code in the function is not executed.\n",
    "\n",
    "2. Returning a Value:\n",
    "\n",
    "The return statement can include an expression or a value, which is the result of the function's computation.\n",
    "This returned value can be stored in a variable or used in further computations in the calling code."
   ]
  },
  {
   "cell_type": "code",
   "execution_count": null,
   "id": "0cf77164-3103-48aa-a204-fdd0ac1bc52d",
   "metadata": {},
   "outputs": [],
   "source": [
    "2. Explain the concept of variable scope in Python, including local and global variables.\n"
   ]
  },
  {
   "cell_type": "code",
   "execution_count": 11,
   "id": "d8955caa-65e0-4d6b-9c83-4dd2489e333b",
   "metadata": {},
   "outputs": [
    {
     "data": {
      "text/plain": [
       "6"
      ]
     },
     "execution_count": 11,
     "metadata": {},
     "output_type": "execute_result"
    }
   ],
   "source": [
    "a=2  #global variable\n",
    "def summ(c,d):\n",
    "    e=c+d\n",
    "    f=e*a  #local variable\n",
    "    return f\n",
    "summ(1,2)   \n",
    "  "
   ]
  },
  {
   "cell_type": "code",
   "execution_count": 9,
   "id": "15da7b26-2693-4df1-bed8-1c51dcd1c958",
   "metadata": {},
   "outputs": [
    {
     "data": {
      "text/plain": [
       "4"
      ]
     },
     "execution_count": 9,
     "metadata": {},
     "output_type": "execute_result"
    }
   ],
   "source": [
    "a*2"
   ]
  },
  {
   "cell_type": "code",
   "execution_count": 12,
   "id": "88004293-aed3-4511-90da-57b75dc69ebf",
   "metadata": {},
   "outputs": [
    {
     "ename": "NameError",
     "evalue": "name 'f' is not defined",
     "output_type": "error",
     "traceback": [
      "\u001b[0;31m---------------------------------------------------------------------------\u001b[0m",
      "\u001b[0;31mNameError\u001b[0m                                 Traceback (most recent call last)",
      "Cell \u001b[0;32mIn[12], line 1\u001b[0m\n\u001b[0;32m----> 1\u001b[0m \u001b[43mf\u001b[49m\u001b[38;5;241m*\u001b[39m\u001b[38;5;241m2\u001b[39m \u001b[38;5;66;03m#because f is local variable ,we cant use globally/we can only use locally\u001b[39;00m\n",
      "\u001b[0;31mNameError\u001b[0m: name 'f' is not defined"
     ]
    }
   ],
   "source": [
    "f*2 #because f is local variable ,we cant use globally/we can only use locally"
   ]
  },
  {
   "cell_type": "code",
   "execution_count": null,
   "id": "2f3cb455-d7fb-4541-ad82-e32943be7d2f",
   "metadata": {},
   "outputs": [],
   "source": [
    "3. Write a Python program that demonstrates the use of global variables within functions.\n"
   ]
  },
  {
   "cell_type": "code",
   "execution_count": 13,
   "id": "7db582fe-a692-4c38-948c-dd6cc6c42a3f",
   "metadata": {},
   "outputs": [
    {
     "data": {
      "text/plain": [
       "6"
      ]
     },
     "execution_count": 13,
     "metadata": {},
     "output_type": "execute_result"
    }
   ],
   "source": [
    "a=2  #global variable\n",
    "def summ(c,d):\n",
    "    e=c+d\n",
    "    f=e*a  #local variable\n",
    "    return f\n",
    "summ(1,2)"
   ]
  },
  {
   "cell_type": "code",
   "execution_count": null,
   "id": "9468143f-1e9c-45cd-a6be-51b234abf52c",
   "metadata": {},
   "outputs": [],
   "source": [
    "4. Create a Python function that calculates the factorial of a number and returns it.\n"
   ]
  },
  {
   "cell_type": "code",
   "execution_count": 18,
   "id": "54be2011-3965-455d-b600-24fe705bf69a",
   "metadata": {},
   "outputs": [
    {
     "data": {
      "text/plain": [
       "24"
      ]
     },
     "execution_count": 18,
     "metadata": {},
     "output_type": "execute_result"
    }
   ],
   "source": [
    "def fact(n):\n",
    "    if n<0:\n",
    "        return \"factorial not defined for negative numbers\"\n",
    "    elif n==1:\n",
    "        return 1\n",
    "    else:\n",
    "        result=1\n",
    "        for i in range(1,n+1):\n",
    "            result=result*i\n",
    "        return result\n",
    "fact(4)"
   ]
  },
  {
   "cell_type": "code",
   "execution_count": null,
   "id": "b53eec24-3095-43d2-a1c7-ccc4f3f18cff",
   "metadata": {},
   "outputs": [],
   "source": [
    "5. How can you access variables defined outside a function from within the function?\n"
   ]
  },
  {
   "cell_type": "code",
   "execution_count": null,
   "id": "e39b46ba-a919-4b28-b165-d6fc9723ca9d",
   "metadata": {},
   "outputs": [],
   "source": [
    "\n",
    "You can access variables defined outside a function from within the function by using one of the following methods:\n",
    "1.Global Variables: \n",
    "2.Pass as an Argument:\n",
    "3. Enclosing Function Scope (Nested Functions):\n",
    "4.Module-level Variables"
   ]
  },
  {
   "cell_type": "code",
   "execution_count": null,
   "id": "898392e5-d0a7-495b-ab22-4401c701e878",
   "metadata": {},
   "outputs": [],
   "source": [
    "Lambda Functions and Higher-Order Functions:\n"
   ]
  },
  {
   "cell_type": "code",
   "execution_count": null,
   "id": "5538d553-d016-4df8-9aeb-8f09964bc423",
   "metadata": {},
   "outputs": [],
   "source": [
    "1. What are lambda functions in Python, and when are they typically used?\n"
   ]
  },
  {
   "cell_type": "code",
   "execution_count": null,
   "id": "93e72612-936d-4f98-89a3-93610feec25b",
   "metadata": {},
   "outputs": [],
   "source": [
    "\n",
    "Lambda functions, also known as anonymous functions or lambda expressions, are a feature in Python that allows you to create small, unnamed functions \n",
    "on the fly. \n",
    "They are typically used for short, simple operations that can be defined in a single line of code. \n",
    "Lambda functions are created using the lambda keyword.\n",
    "syntax:\n",
    "    lambda arguments: expression\n"
   ]
  },
  {
   "cell_type": "code",
   "execution_count": null,
   "id": "b782f44a-ea7c-4e2d-bf1f-6a0132528a9a",
   "metadata": {},
   "outputs": [],
   "source": [
    "2. Write a Python program that uses lambda functions to sort a list of tuples based on the second\n",
    "element.\n"
   ]
  },
  {
   "cell_type": "code",
   "execution_count": 35,
   "id": "71de7817-622f-4800-984d-09df16cafc49",
   "metadata": {},
   "outputs": [],
   "source": [
    "sorted_list = sorted([(1, 5), (3, 2), (2, 8), (4, 1)], key=lambda x: x[1])"
   ]
  },
  {
   "cell_type": "code",
   "execution_count": 36,
   "id": "3c483bff-548f-4fd8-9924-75284c9a7eb8",
   "metadata": {},
   "outputs": [
    {
     "data": {
      "text/plain": [
       "[(4, 1), (3, 2), (1, 5), (2, 8)]"
      ]
     },
     "execution_count": 36,
     "metadata": {},
     "output_type": "execute_result"
    }
   ],
   "source": [
    "sorted_list"
   ]
  },
  {
   "cell_type": "code",
   "execution_count": null,
   "id": "1c428503-60e5-4544-839d-4c9d38114b0f",
   "metadata": {},
   "outputs": [],
   "source": [
    "3. Explain the concept of higher-order functions in Python, and provide an example.\n"
   ]
  },
  {
   "cell_type": "code",
   "execution_count": null,
   "id": "1c682b85-f39c-45c0-8ee8-ed718e3042c2",
   "metadata": {},
   "outputs": [],
   "source": [
    "Higher-order functions are functions that can accept other functions as arguments, return functions as results, or both. \n",
    "In Python, functions are first-class objects, which means they can be treated like any other object such as integers, strings, or lists. \n",
    "This enables Python to support higher-order functions, allowing you to work with functions in a flexible and powerful way.\n",
    "\n",
    "Here's a breakdown of the concept of higher-order functions:\n",
    "\n",
    "Accepting Functions as Arguments: A higher-order function can take one or more functions as arguments. This allows you to pass custom behavior to a \n",
    "function.\n",
    "\n",
    "Returning Functions as Results: A higher-order function can also return functions as results. \n",
    "This enables you to create and return new functions based on certain conditions or configurations.\n",
    "\n",
    "Higher-order functions are widely used in functional programming paradigms and can lead to more concise and modular code.\n",
    "They allow you to abstract and parameterize behavior, making your code more flexible and reusable."
   ]
  },
  {
   "cell_type": "code",
   "execution_count": null,
   "id": "3a97ee66-0ba1-4757-ad21-c941ffa2bd64",
   "metadata": {},
   "outputs": [],
   "source": [
    "4. Create a Python function that takes a list of numbers and a function as arguments, applying the\n",
    "function to each element in the list.\n"
   ]
  },
  {
   "cell_type": "code",
   "execution_count": 37,
   "id": "8b7c0643-7ae8-454d-992a-686eaa5a6b79",
   "metadata": {},
   "outputs": [
    {
     "name": "stdout",
     "output_type": "stream",
     "text": [
      "Squared Numbers: [1, 4, 9, 16, 25]\n",
      "Doubled Numbers: [2, 4, 6, 8, 10]\n"
     ]
    }
   ],
   "source": [
    "# Higher-order function that applies a given function to each element of a list\n",
    "def apply_function_to_list(func, my_list):\n",
    "    result = []\n",
    "    for item in my_list:\n",
    "        result.append(func(item))\n",
    "    return result\n",
    "\n",
    "# Example functions to be used as arguments\n",
    "def square(x):\n",
    "    return x ** 2\n",
    "\n",
    "def double(x):\n",
    "    return x * 2\n",
    "\n",
    "# Applying the higher-order function with different functions and lists\n",
    "numbers = [1, 2, 3, 4, 5]\n",
    "\n",
    "squared_numbers = apply_function_to_list(square, numbers)\n",
    "print(\"Squared Numbers:\", squared_numbers)\n",
    "\n",
    "doubled_numbers = apply_function_to_list(double, numbers)\n",
    "print(\"Doubled Numbers:\", doubled_numbers)\n"
   ]
  },
  {
   "cell_type": "code",
   "execution_count": null,
   "id": "d1357599-1bb3-4eb1-b694-6cd655f42ad8",
   "metadata": {},
   "outputs": [],
   "source": [
    "Built-in Functions:\n"
   ]
  },
  {
   "cell_type": "code",
   "execution_count": null,
   "id": "a1bac0f7-7b2e-42bc-8ea7-0b8c7c0f9b39",
   "metadata": {},
   "outputs": [],
   "source": [
    "1. Describe the role of built-in functions like `len()`, `max()`, and `min()` in Python.\n"
   ]
  },
  {
   "cell_type": "code",
   "execution_count": null,
   "id": "ee8da967-42eb-42a8-9b5c-80a00cb351e7",
   "metadata": {},
   "outputs": [],
   "source": [
    "1.len() Function:\n",
    "\n",
    "Role: The len() function is used to determine the length or the number of elements in a sequence or collection.\n",
    "Common Use: It is commonly used with sequences like strings, lists, tuples, and dictionaries to find out how many items are contained within them.\n",
    "2.min() Function:\n",
    "\n",
    "Role: The min() function is used to find the minimum (smallest) element among the values in a sequence.\n",
    "Common Use: It's used to find the smallest number, character, or item in a list, tuple, or other iterable.\n",
    "3.max() Function:\n",
    "\n",
    "Role: The max() function is used to find the maximum (largest) element among the values in a sequence.\n",
    "Common Use: It's frequently employed to find the largest number, character, or item in a list, tuple, or other iterable."
   ]
  },
  {
   "cell_type": "code",
   "execution_count": null,
   "id": "d8d9120c-5581-46e8-8e2b-7f80f479506c",
   "metadata": {},
   "outputs": [],
   "source": [
    "2. Write a Python program that uses the `map()` function to apply a function to each element of a\n",
    "list."
   ]
  },
  {
   "cell_type": "code",
   "execution_count": 38,
   "id": "003fce2a-68ee-4101-bb53-ae800ecd3b05",
   "metadata": {},
   "outputs": [
    {
     "data": {
      "text/plain": [
       "[2, 3, 4]"
      ]
     },
     "execution_count": 38,
     "metadata": {},
     "output_type": "execute_result"
    }
   ],
   "source": [
    "l=[1,2,3]\n",
    "list(map(lambda a:a+1,l))"
   ]
  },
  {
   "cell_type": "code",
   "execution_count": null,
   "id": "be4d7414-3e67-461a-b9cf-429cefe74dd5",
   "metadata": {},
   "outputs": [],
   "source": [
    "3. How does the `filter()` function work in Python, and when would you use it?\n"
   ]
  },
  {
   "cell_type": "code",
   "execution_count": 40,
   "id": "75625b16-3ad0-43da-a151-faa5685d3790",
   "metadata": {},
   "outputs": [
    {
     "data": {
      "text/plain": [
       "[2, 4]"
      ]
     },
     "execution_count": 40,
     "metadata": {},
     "output_type": "execute_result"
    }
   ],
   "source": [
    "l=[1,2,3,4]\n",
    "list(filter(lambda a: a if a%2==0 else 0,l))"
   ]
  },
  {
   "cell_type": "code",
   "execution_count": null,
   "id": "07ce20fd-8807-4f84-ba64-9c9720324755",
   "metadata": {},
   "outputs": [],
   "source": [
    "4. Create a Python program that uses the `reduce()` function to find the product of all elements in\n",
    "a list."
   ]
  },
  {
   "cell_type": "code",
   "execution_count": 34,
   "id": "08606e33-7fe0-4d34-a04d-ac94d70ca1a0",
   "metadata": {},
   "outputs": [
    {
     "data": {
      "text/plain": [
       "24"
      ]
     },
     "execution_count": 34,
     "metadata": {},
     "output_type": "execute_result"
    }
   ],
   "source": [
    "from functools import reduce\n",
    "l=[1,2,3,4]\n",
    "reduce(lambda a,b:a*b,l)"
   ]
  },
  {
   "cell_type": "code",
   "execution_count": null,
   "id": "4236bbb0-fd07-4726-b9b7-66917d88d388",
   "metadata": {},
   "outputs": [],
   "source": [
    "Function Documentation and Best Practices:\n"
   ]
  },
  {
   "cell_type": "code",
   "execution_count": null,
   "id": "ce39982d-7c7a-4eb4-b395-b65845d67d01",
   "metadata": {},
   "outputs": [],
   "source": [
    "1. Explain the purpose of docstrings in Python functions and how to write them."
   ]
  },
  {
   "cell_type": "code",
   "execution_count": null,
   "id": "23ba8c1a-9942-40c7-a63c-3ddc43d06e08",
   "metadata": {},
   "outputs": [],
   "source": [
    "In Python, docstrings are string literals used to document modules, classes, and functions. For functions, docstrings describe their purpose, \n",
    "parameters, return values, and usage. They serve as documentation, aid in autogeneration of documentation, and are accessible through the Python \n",
    "help system. Docstrings are written as triple double-quoted strings immediately after the function definition. It's recommended to follow a specific \n",
    "format for clarity and consistency."
   ]
  },
  {
   "cell_type": "code",
   "execution_count": 17,
   "id": "32c86768-a32c-4cbb-ad51-7fc6594feea5",
   "metadata": {},
   "outputs": [
    {
     "data": {
      "text/plain": [
       "3"
      ]
     },
     "execution_count": 17,
     "metadata": {},
     "output_type": "execute_result"
    }
   ],
   "source": [
    "def add_numbers(x, y):\n",
    "    \"\"\"\n",
    "    Adds two numbers.\n",
    "\n",
    "    Parameters:\n",
    "    - x (int): The first number.\n",
    "    - y (int): The second number.\n",
    "\n",
    "    Returns:\n",
    "    - int: The sum of x and y.\n",
    "    \"\"\"\n",
    "    result = x + y\n",
    "    return result\n",
    "add = add_numbers(1,2)\n",
    "add"
   ]
  },
  {
   "cell_type": "code",
   "execution_count": null,
   "id": "2f29519d-6c23-4620-8cb8-bd5b0ae7525c",
   "metadata": {},
   "outputs": [],
   "source": [
    "2.Describe the best practices for naming the functions and variables in python ,including naming conventions and guidelines"
   ]
  },
  {
   "cell_type": "code",
   "execution_count": null,
   "id": "e7a1b575-0746-434d-935f-1ba7dda48880",
   "metadata": {},
   "outputs": [],
   "source": [
    "Naming functions and variables in Python follows a set of conventions and guidelines that help improve code readability and maintainability. \n",
    "Adhering to these best practices ensures that your code is clear and understandable to both you and other developers. Here are some of the best \n",
    "practices for naming functions and variables in Python:\n",
    "\n",
    "For Variable Names:\n",
    "\n",
    "1. Use Descriptive Names: Choose names that describe the purpose or content of the variable. Avoid generic names like `a`, `x`, or `temp`.\n",
    "\n",
    " \n",
    "   # Good: descriptive variable name\n",
    "   total_score = 100\n",
    "\n",
    "   # Bad: non-descriptive variable name\n",
    "   t = 100\n",
    "  \n",
    "\n",
    "2. Follow Snake Case: Use lowercase letters and separate words with underscores (_) to improve readability.\n",
    "\n",
    "   \n",
    "   # Good: snake_case\n",
    "   student_name = \"John Doe\"\n",
    "\n",
    "   # Bad: camelCase or PascalCase\n",
    "   studentName = \"John Doe\"\n",
    "   \n",
    "\n",
    "3. Avoid Single-Letter Variable Names: Except for loop iterators and certain common cases (e.g., `x`, `y` for coordinates), avoid single-letter \n",
    "variable names as they can be unclear.\n",
    "\n",
    "  \n",
    "   # Good: meaningful variable name\n",
    "   age = 25\n",
    "\n",
    "   # Bad: single-letter variable name\n",
    "   a = 25\n",
    "  \n",
    "\n",
    "4. Use Plural for Collections: When naming collections (e.g., lists, dictionaries), use a plural form to indicate that it contains multiple elements.\n",
    "\n",
    "  \n",
    "   # Good: plural variable name\n",
    "   students = [\"John\", \"Alice\", \"Bob\"]\n",
    "\n",
    "   # Bad: singular variable name\n",
    "   student = [\"John\", \"Alice\", \"Bob\"]\n",
    "  \n",
    "\n",
    "For Function Names:\n",
    "\n",
    "1. Use Descriptive and Verbose Names: Function names should clearly convey their purpose and what they do.\n",
    "\n",
    "   ```python\n",
    "   # Good: descriptive function name\n",
    "   def calculate_total_score(scores):\n",
    "       pass\n",
    "\n",
    "   # Bad: non-descriptive function name\n",
    "   def calc(scores):\n",
    "       pass\n",
    "   ```\n",
    "\n",
    "2. **Follow Snake Case**: Like variable names, use lowercase letters and separate words with underscores in function names.\n",
    "\n",
    "   ```python\n",
    "   # Good: snake_case function name\n",
    "   def calculate_average_score(scores):\n",
    "       pass\n",
    "\n",
    "   # Bad: camelCase or PascalCase\n",
    "   def calculateAverageScore(scores):\n",
    "       pass\n",
    "   ```\n",
    "\n",
    "3. **Use Action Verbs**: Begin function names with action verbs to indicate what the function does. This makes code more intuitive.\n",
    "\n",
    "   ```python\n",
    "   # Good: action verb in function name\n",
    "   def calculate_total_score(scores):\n",
    "       pass\n",
    "\n",
    "   # Bad: no action verb\n",
    "   def scores_total(scores):\n",
    "       pass\n",
    "   ```\n",
    "\n",
    "4. **Avoid Starting with Underscore**: Function names that start with an underscore (`_`) are considered private and should not be accessed outside the module. Use them sparingly and only when necessary.\n",
    "\n",
    "   ```python\n",
    "   # Good: public function\n",
    "   def calculate_average_score(scores):\n",
    "       pass\n",
    "\n",
    "   # Avoid: private function\n",
    "   def _calculate_average(scores):\n",
    "       pass\n",
    "   ```\n",
    "\n",
    "**General Naming Guidelines:**\n",
    "\n",
    "1. **Consistency**: Maintain consistency in naming conventions within your codebase. If you use snake_case for variables and functions, stick with it throughout.\n",
    "\n",
    "2. **Avoid Confusing Similar Names**: Avoid naming variables and functions in a way that they can be easily confused with each other.\n",
    "\n",
    "   ```python\n",
    "   # Confusing: variable and function with similar names\n",
    "   scores = [90, 85, 75]\n",
    "   \n",
    "   def score():\n",
    "       pass\n",
    "   ```\n",
    "\n",
    "3. **Use Meaningful Prefixes**: For global constants or variables with a specific purpose, use meaningful prefixes. For example, `MAX_LENGTH` for a constant representing the maximum length.\n",
    "\n",
    "4. **Follow PEP 8**: PEP 8 is the official Python style guide, and it provides detailed recommendations for naming conventions and code formatting. Adhering to PEP 8 is considered a best practice.\n",
    "\n",
    "By following these best practices for naming functions and variables in Python, you can make your code more readable, understandable, and maintainable, which is essential for effective collaboration and long-term code maintainability."
   ]
  }
 ],
 "metadata": {
  "kernelspec": {
   "display_name": "Python 3 (ipykernel)",
   "language": "python",
   "name": "python3"
  },
  "language_info": {
   "codemirror_mode": {
    "name": "ipython",
    "version": 3
   },
   "file_extension": ".py",
   "mimetype": "text/x-python",
   "name": "python",
   "nbconvert_exporter": "python",
   "pygments_lexer": "ipython3",
   "version": "3.10.8"
  }
 },
 "nbformat": 4,
 "nbformat_minor": 5
}
